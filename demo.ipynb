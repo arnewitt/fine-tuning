{
 "cells": [
  {
   "cell_type": "code",
   "execution_count": null,
   "metadata": {
    "execution": {
     "iopub.execute_input": "2025-03-20T21:59:47.496343Z",
     "iopub.status.busy": "2025-03-20T21:59:47.495884Z",
     "iopub.status.idle": "2025-03-20T22:02:46.494874Z",
     "shell.execute_reply": "2025-03-20T22:02:46.493892Z",
     "shell.execute_reply.started": "2025-03-20T21:59:47.496279Z"
    },
    "trusted": true
   },
   "outputs": [],
   "source": [
    "!pip install unsloth -q"
   ]
  },
  {
   "cell_type": "markdown",
   "metadata": {
    "id": "hcJNiVgpVW8z"
   },
   "source": [
    "## Objectives\n",
    "\n",
    "The primary objective is to adapt a language model to better reflect the communication style and needs of a particular organization or domain. This includes:\n",
    "\n",
    "* **Individualization:** Tailoring the model's output to align with the unique communication style and preferences of a company. This ensures that the generated text resonates with the company's brand identity and with its target audience.\n",
    "* **Cost Optimization:** Leveraging techniques such as quantization and knowledge distillation to reduce the model's size and computational requirements, thereby minimizing inference costs and improving overall efficiency.\n",
    "\n",
    "## Rationale\n",
    "\n",
    "Fine-tuning a language model offers several benefits:\n",
    "\n",
    "* **Enhanced Communication:** It allows for the creation of more personalized and effective communication materials, leading to improved client engagement and satisfaction.\n",
    "* **Reduced Costs:** Smaller, fine-tuned models can significantly reduce computational costs, making them more feasible for large-scale deployment.\n",
    "* **Improved Efficiency:** By adapting the model to specific tasks and domains, it can generate more relevant and accurate outputs, saving time and resources.\n",
    "\n",
    "This notebook will run on Kaggle."
   ]
  },
  {
   "cell_type": "code",
   "execution_count": null,
   "metadata": {
    "execution": {
     "iopub.execute_input": "2025-03-20T22:02:46.496620Z",
     "iopub.status.busy": "2025-03-20T22:02:46.496295Z",
     "iopub.status.idle": "2025-03-20T22:03:19.540870Z",
     "shell.execute_reply": "2025-03-20T22:03:19.540199Z",
     "shell.execute_reply.started": "2025-03-20T22:02:46.496589Z"
    },
    "id": "C-CiKIwK0GYp",
    "trusted": true
   },
   "outputs": [
    {
     "name": "stdout",
     "output_type": "stream",
     "text": [
      "🦥 Unsloth: Will patch your computer to enable 2x faster free finetuning.\n",
      "🦥 Unsloth Zoo will now patch everything to make training faster!\n"
     ]
    }
   ],
   "source": [
    "from unsloth import FastLanguageModel\n",
    "from unsloth.chat_templates import get_chat_template\n",
    "\n",
    "from transformers import TextStreamer"
   ]
  },
  {
   "cell_type": "code",
   "execution_count": 3,
   "metadata": {
    "execution": {
     "iopub.execute_input": "2025-03-20T22:03:19.542944Z",
     "iopub.status.busy": "2025-03-20T22:03:19.542650Z",
     "iopub.status.idle": "2025-03-20T22:03:19.546796Z",
     "shell.execute_reply": "2025-03-20T22:03:19.545937Z",
     "shell.execute_reply.started": "2025-03-20T22:03:19.542919Z"
    },
    "id": "nmPd_-BPz08Y",
    "trusted": true
   },
   "outputs": [],
   "source": [
    "model_name = \"mistral-7b-instruct-v0.2-bnb-4bit\"\n",
    "chat_template = \"mistral\"\n",
    "max_sequence_length = 2048\n",
    "load_in_4bit = True # reduce memory requirements\n",
    "dtype = None # use auto detection\n",
    "seed = 1337"
   ]
  },
  {
   "cell_type": "code",
   "execution_count": 4,
   "metadata": {
    "colab": {
     "base_uri": "https://localhost:8080/"
    },
    "execution": {
     "iopub.execute_input": "2025-03-20T22:03:19.548418Z",
     "iopub.status.busy": "2025-03-20T22:03:19.548125Z",
     "iopub.status.idle": "2025-03-20T22:03:47.193343Z",
     "shell.execute_reply": "2025-03-20T22:03:47.192268Z",
     "shell.execute_reply.started": "2025-03-20T22:03:19.548396Z"
    },
    "id": "jz2XOrt6zuCt",
    "outputId": "cc990438-5863-4a03-9c62-e516e6dc2d49",
    "trusted": true
   },
   "outputs": [
    {
     "name": "stdout",
     "output_type": "stream",
     "text": [
      "==((====))==  Unsloth 2025.3.17: Fast Mistral patching. Transformers: 4.49.0.\n",
      "   \\\\   /|    Tesla P100-PCIE-16GB. Num GPUs = 1. Max memory: 15.888 GB. Platform: Linux.\n",
      "O^O/ \\_/ \\    Torch: 2.6.0+cu124. CUDA: 6.0. CUDA Toolkit: 12.4. Triton: 3.2.0\n",
      "\\        /    Bfloat16 = FALSE. FA [Xformers = 0.0.29.post3. FA2 = False]\n",
      " \"-____-\"     Free license: http://github.com/unslothai/unsloth\n",
      "Unsloth: Fast downloading is enabled - ignore downloading bars which are red colored!\n"
     ]
    },
    {
     "data": {
      "application/vnd.jupyter.widget-view+json": {
       "model_id": "ce93cc01fa3b45fcab5770c02edb162a",
       "version_major": 2,
       "version_minor": 0
      },
      "text/plain": [
       "model.safetensors:   0%|          | 0.00/4.13G [00:00<?, ?B/s]"
      ]
     },
     "metadata": {},
     "output_type": "display_data"
    },
    {
     "data": {
      "application/vnd.jupyter.widget-view+json": {
       "model_id": "329cd53062a74bdb96a98b10b1b8feea",
       "version_major": 2,
       "version_minor": 0
      },
      "text/plain": [
       "generation_config.json:   0%|          | 0.00/155 [00:00<?, ?B/s]"
      ]
     },
     "metadata": {},
     "output_type": "display_data"
    },
    {
     "data": {
      "application/vnd.jupyter.widget-view+json": {
       "model_id": "0dc7bf86595644b28054e3cfdb4cce20",
       "version_major": 2,
       "version_minor": 0
      },
      "text/plain": [
       "tokenizer_config.json:   0%|          | 0.00/2.13k [00:00<?, ?B/s]"
      ]
     },
     "metadata": {},
     "output_type": "display_data"
    },
    {
     "data": {
      "application/vnd.jupyter.widget-view+json": {
       "model_id": "d8fdbdc7cb2645ef8da98ffd1ad15035",
       "version_major": 2,
       "version_minor": 0
      },
      "text/plain": [
       "tokenizer.model:   0%|          | 0.00/493k [00:00<?, ?B/s]"
      ]
     },
     "metadata": {},
     "output_type": "display_data"
    },
    {
     "data": {
      "application/vnd.jupyter.widget-view+json": {
       "model_id": "9076eeb05f7941f48701c71d38438118",
       "version_major": 2,
       "version_minor": 0
      },
      "text/plain": [
       "special_tokens_map.json:   0%|          | 0.00/438 [00:00<?, ?B/s]"
      ]
     },
     "metadata": {},
     "output_type": "display_data"
    },
    {
     "data": {
      "application/vnd.jupyter.widget-view+json": {
       "model_id": "642f0f3a641440e1bd60439c172032e4",
       "version_major": 2,
       "version_minor": 0
      },
      "text/plain": [
       "tokenizer.json:   0%|          | 0.00/1.80M [00:00<?, ?B/s]"
      ]
     },
     "metadata": {},
     "output_type": "display_data"
    }
   ],
   "source": [
    "model, tokenizer = FastLanguageModel.from_pretrained(\n",
    "  model_name=f\"unsloth/{model_name}\",\n",
    "  max_seq_length=max_sequence_length,\n",
    "  dtype=dtype,\n",
    "  load_in_4bit=load_in_4bit,\n",
    ")"
   ]
  },
  {
   "cell_type": "code",
   "execution_count": 5,
   "metadata": {
    "execution": {
     "iopub.execute_input": "2025-03-20T22:03:47.194873Z",
     "iopub.status.busy": "2025-03-20T22:03:47.194437Z",
     "iopub.status.idle": "2025-03-20T22:03:47.200351Z",
     "shell.execute_reply": "2025-03-20T22:03:47.199249Z",
     "shell.execute_reply.started": "2025-03-20T22:03:47.194829Z"
    },
    "id": "p_-ayIXDGsAD",
    "trusted": true
   },
   "outputs": [],
   "source": [
    "# Prepare a message that we will use to inspect the model's replies. Contains a human's complaint to an airline. \n",
    "# In the end, we want our model to reply in a way that feels natural and appropriate.\n",
    "demo_text = (\n",
    "  \"First flight for long time with @British_Airways. \"\n",
    "  \"Now over one 1h delay for the short jump FRA-LCY and \"\n",
    "  \"NO one here to provide status updates\"\n",
    ")\n",
    "\n",
    "demo_messages = [\n",
    "  {\n",
    "    \"from\": \"human\",\n",
    "    \"value\": demo_text\n",
    "  },\n",
    "]"
   ]
  },
  {
   "cell_type": "code",
   "execution_count": 6,
   "metadata": {
    "execution": {
     "iopub.execute_input": "2025-03-20T22:03:47.201596Z",
     "iopub.status.busy": "2025-03-20T22:03:47.201241Z",
     "iopub.status.idle": "2025-03-20T22:03:53.350394Z",
     "shell.execute_reply": "2025-03-20T22:03:53.349594Z",
     "shell.execute_reply.started": "2025-03-20T22:03:47.201560Z"
    },
    "id": "UyNhXZvzH1DH",
    "trusted": true
   },
   "outputs": [],
   "source": [
    "# Prepare chat template to be used throughout the whole process.\n",
    "mapping_template = {\"role\" : \"from\", \"content\" : \"value\", \"user\" : \"human\", \"assistant\" : \"model\"}\n",
    "tokenizer = get_chat_template(\n",
    "  tokenizer,\n",
    "  chat_template=chat_template,\n",
    "  mapping=mapping_template,\n",
    "  map_eos_token = True\n",
    ")"
   ]
  },
  {
   "cell_type": "code",
   "execution_count": 7,
   "metadata": {
    "colab": {
     "base_uri": "https://localhost:8080/"
    },
    "execution": {
     "iopub.execute_input": "2025-03-20T22:03:53.351461Z",
     "iopub.status.busy": "2025-03-20T22:03:53.351156Z",
     "iopub.status.idle": "2025-03-20T22:04:06.397998Z",
     "shell.execute_reply": "2025-03-20T22:04:06.397261Z",
     "shell.execute_reply.started": "2025-03-20T22:03:53.351430Z"
    },
    "id": "ZTIIVPPoFIWD",
    "outputId": "b8d001d9-f408-47a2-af7a-b3c6d9b1540d",
    "trusted": true
   },
   "outputs": [
    {
     "name": "stderr",
     "output_type": "stream",
     "text": [
      "The attention mask is not set and cannot be inferred from input because pad token is same as eos token. As a consequence, you may observe unexpected behavior. Please pass your input's `attention_mask` to obtain reliable results.\n"
     ]
    },
    {
     "name": "stdout",
     "output_type": "stream",
     "text": [
      "[\"<s>[INST] First flight for long time with @British_Airways. Now over one 1h delay for the short jump FRA-LCY and NO one here to provide status updates [/INST] I'm sorry to hear that you're experiencing a delay with your British Airways flight from Frankfurt to London City Airport (LCY), and that there seems to be a lack of communication from the airline regarding the status of your flight.\\n\\nDelayed flights can be frustrating, especially when there's a lack of information about the cause and estimated duration of the delay. In situations like this, it may be helpful to contact British Airways directly for updates. You can try contacting them through their customer service phone number or via social media channels like Twitter.\\n\\nWhen contacting British Airways, be sure to have your booking reference number and other relevant details on hand to help them assist you more efficiently. They may be able to provide you with more accurate and up-to-date information about the delay and any compensation or accommodations that may be available to you.\\n\\nAdditionally, you may want to check the British Airways website or app for any information about the delay or alternative flight options that may be available to you. If the delay is significant, you may also be entitled to compensation under European Union regulations, so be sure to ask about this when speaking with a representative.\\n\\nI hope this information is helpful, and\"]\n"
     ]
    }
   ],
   "source": [
    "# Use base/foundation model for test inference to find out how it will respond to a customer inquiry without any fine-tuning.\n",
    "FastLanguageModel.for_inference(model)\n",
    "text_streamer = TextStreamer(tokenizer)\n",
    "\n",
    "inputs = tokenizer.apply_chat_template(\n",
    "    demo_messages,\n",
    "    tokenize=True,\n",
    "    add_generation_prompt=True,\n",
    "    return_tensors=\"pt\",\n",
    ").to(\"cuda\")\n",
    "\n",
    "outputs = model.generate(input_ids=inputs, max_new_tokens=256, use_cache=True)\n",
    "result = tokenizer.batch_decode(outputs)\n",
    "print(result)"
   ]
  },
  {
   "cell_type": "markdown",
   "metadata": {
    "id": "sOqqHl3eGNyH"
   },
   "source": [
    "This will help us later in determining if fine tuning changes the pattern in the reply the model gives. The reply from the model without fine-tuning is very long. It feels like a generic LLM response and not helpful to customers. Our objective will be to change that and make it mimic a real customer service agent on social media.\n",
    "\n",
    "(Caution: one example is not enough for drawing a proper hypothesis or validation. This will be simplified for the sake of the demo.)"
   ]
  },
  {
   "cell_type": "code",
   "execution_count": 8,
   "metadata": {
    "execution": {
     "iopub.execute_input": "2025-03-20T22:04:06.399043Z",
     "iopub.status.busy": "2025-03-20T22:04:06.398765Z",
     "iopub.status.idle": "2025-03-20T22:04:13.039891Z",
     "shell.execute_reply": "2025-03-20T22:04:13.039166Z",
     "shell.execute_reply.started": "2025-03-20T22:04:06.399011Z"
    },
    "id": "5NAa_DMHDOJR",
    "trusted": true
   },
   "outputs": [
    {
     "name": "stderr",
     "output_type": "stream",
     "text": [
      "Unsloth 2025.3.17 patched 32 layers with 32 QKV layers, 32 O layers and 32 MLP layers.\n"
     ]
    }
   ],
   "source": [
    "# Use PEFT to make the process more efficient - https://huggingface.co/docs/transformers/peft\n",
    "target_modules = [\n",
    "  \"q_proj\",\n",
    "  \"k_proj\",\n",
    "  \"v_proj\",\n",
    "  \"o_proj\",\n",
    "  \"gate_proj\",\n",
    "  \"up_proj\",\n",
    "  \"down_proj\"\n",
    "]\n",
    "\n",
    "model = FastLanguageModel.get_peft_model(\n",
    "  model,\n",
    "  r=16, # Choose any number > 0 ! Suggested 8, 16, 32, 64, 128\n",
    "  target_modules = target_modules,\n",
    "  lora_alpha=16,\n",
    "  lora_dropout=0,\n",
    "  bias=\"none\",\n",
    "  use_gradient_checkpointing = \"unsloth\",\n",
    "  random_state=seed,\n",
    "  use_rslora=False,\n",
    "  loftq_config=None,\n",
    ")"
   ]
  },
  {
   "cell_type": "code",
   "execution_count": 9,
   "metadata": {
    "execution": {
     "iopub.execute_input": "2025-03-20T22:04:13.042511Z",
     "iopub.status.busy": "2025-03-20T22:04:13.042230Z",
     "iopub.status.idle": "2025-03-20T22:04:13.046797Z",
     "shell.execute_reply": "2025-03-20T22:04:13.045970Z",
     "shell.execute_reply.started": "2025-03-20T22:04:13.042486Z"
    },
    "trusted": true
   },
   "outputs": [],
   "source": [
    "def batch_inference(model, tokenizer, messages):\n",
    "  \"\"\"Perform batch inference using model.\"\"\"\n",
    "  inputs = tokenizer.apply_chat_template(\n",
    "      messages,\n",
    "      tokenize=True,\n",
    "      add_generation_prompt=True,\n",
    "      return_tensors=\"pt\",\n",
    "  ).to(\"cuda\")\n",
    "\n",
    "  outputs = model.generate(input_ids=inputs, max_new_tokens=256, use_cache=True)\n",
    "  result = tokenizer.batch_decode(outputs)\n",
    "  return result"
   ]
  },
  {
   "cell_type": "code",
   "execution_count": 10,
   "metadata": {
    "execution": {
     "iopub.execute_input": "2025-03-20T22:04:13.048565Z",
     "iopub.status.busy": "2025-03-20T22:04:13.048359Z",
     "iopub.status.idle": "2025-03-20T22:04:27.702347Z",
     "shell.execute_reply": "2025-03-20T22:04:27.701411Z",
     "shell.execute_reply.started": "2025-03-20T22:04:13.048545Z"
    },
    "trusted": true
   },
   "outputs": [
    {
     "name": "stdout",
     "output_type": "stream",
     "text": [
      "[\"<s>[INST] Hello, World! [/INST] Hello there! It's nice to meet you. Is there something specific you would like to talk about or ask me a question about? I'm here to help answer any questions you might have to the best of my ability. Just let me know what's on your mind and we can go from there. Have a great day! 😊🌞🌎💻 #AI #Chatbot #HelloWorld #Technology #Future #Innovation #Robotics #ArtificialIntelligence #MachineLearning #DeepLearning #NeuralNetworks #BigData #DataScience #DataAnalytics #DataEngineering #CloudComputing #InternetOfThings #Cybersecurity #Programming #Python #Java #CSharp #JavaScript #HTML #CSS #SQL #Database #Design #Development #Marketing #SEO #SocialMedia #DigitalMarketing #ContentMarketing #EmailMarketing #InboundMarketing #OutboundMarketing #GrowthHacking #Startup #Entrepreneurship #Business #Finance #Investing #StockMarket #Cryptocurrency #Block\"]\n"
     ]
    }
   ],
   "source": [
    "test_messages = [\n",
    "  {\n",
    "    \"from\": \"human\",\n",
    "    \"value\": \"Hello, World!\"\n",
    "  },\n",
    "]\n",
    "\n",
    "result = batch_inference(model, tokenizer, test_messages)\n",
    "print(result)"
   ]
  },
  {
   "cell_type": "markdown",
   "metadata": {
    "id": "oB0BrNeTV5uL"
   },
   "source": [
    "## Data preparation"
   ]
  },
  {
   "cell_type": "code",
   "execution_count": null,
   "metadata": {
    "execution": {
     "iopub.execute_input": "2025-03-20T22:04:27.703793Z",
     "iopub.status.busy": "2025-03-20T22:04:27.703208Z",
     "iopub.status.idle": "2025-03-20T22:04:27.707745Z",
     "shell.execute_reply": "2025-03-20T22:04:27.707073Z",
     "shell.execute_reply.started": "2025-03-20T22:04:27.703766Z"
    },
    "id": "gk2l8EyxXfNU",
    "trusted": true
   },
   "outputs": [],
   "source": [
    "import shutil\n",
    "import os\n",
    "import pandas as pd\n",
    "import re\n",
    "import matplotlib.pyplot as plt\n",
    "\n",
    "from unsloth import is_bfloat16_supported\n",
    "from trl import SFTTrainer\n",
    "from datasets import Dataset\n",
    "from transformers import TrainingArguments"
   ]
  },
  {
   "cell_type": "code",
   "execution_count": 13,
   "metadata": {
    "colab": {
     "base_uri": "https://localhost:8080/"
    },
    "execution": {
     "iopub.execute_input": "2025-03-20T22:04:32.045147Z",
     "iopub.status.busy": "2025-03-20T22:04:32.044787Z",
     "iopub.status.idle": "2025-03-20T22:04:35.197502Z",
     "shell.execute_reply": "2025-03-20T22:04:35.196635Z",
     "shell.execute_reply.started": "2025-03-20T22:04:32.045112Z"
    },
    "id": "m1YTeQuzV9bP",
    "outputId": "55905717-aa60-4e87-b296-56bea0053e1f",
    "trusted": true
   },
   "outputs": [
    {
     "name": "stdout",
     "output_type": "stream",
     "text": [
      "Warning: Looks like you're using an outdated API Version, please consider updating (server 1.7.4.2 / client 1.6.17)\n",
      "Dataset URL: https://www.kaggle.com/datasets/thoughtvector/customer-support-on-twitter\n",
      "License(s): CC-BY-NC-SA-4.0\n",
      "Downloading customer-support-on-twitter.zip to /kaggle/working\n",
      " 94%|██████████████████████████████████████▋  | 159M/169M [00:01<00:00, 100MB/s]\n",
      "100%|████████████████████████████████████████| 169M/169M [00:01<00:00, 97.3MB/s]\n"
     ]
    }
   ],
   "source": [
    "# Download dataset as .zip file\n",
    "!kaggle datasets download -d thoughtvector/customer-support-on-twitter"
   ]
  },
  {
   "cell_type": "code",
   "execution_count": 14,
   "metadata": {
    "colab": {
     "base_uri": "https://localhost:8080/"
    },
    "execution": {
     "iopub.execute_input": "2025-03-20T22:04:35.198877Z",
     "iopub.status.busy": "2025-03-20T22:04:35.198560Z",
     "iopub.status.idle": "2025-03-20T22:04:39.899844Z",
     "shell.execute_reply": "2025-03-20T22:04:39.898822Z",
     "shell.execute_reply.started": "2025-03-20T22:04:35.198851Z"
    },
    "id": "oxMOvJWsW5hk",
    "outputId": "360584b1-93ce-4c77-cac3-4b78dabca915",
    "trusted": true
   },
   "outputs": [],
   "source": [
    "# Unzip dataset\n",
    "!unzip -q customer-support-on-twitter.zip"
   ]
  },
  {
   "cell_type": "code",
   "execution_count": 15,
   "metadata": {
    "colab": {
     "base_uri": "https://localhost:8080/",
     "height": 401
    },
    "execution": {
     "iopub.execute_input": "2025-03-20T22:04:39.901262Z",
     "iopub.status.busy": "2025-03-20T22:04:39.901031Z",
     "iopub.status.idle": "2025-03-20T22:04:39.907000Z",
     "shell.execute_reply": "2025-03-20T22:04:39.906365Z",
     "shell.execute_reply.started": "2025-03-20T22:04:39.901240Z"
    },
    "id": "yI01GLVdW8z9",
    "outputId": "0756c3a2-57f1-40ac-dcec-351dd5dbe39a",
    "trusted": true
   },
   "outputs": [
    {
     "name": "stdout",
     "output_type": "stream",
     "text": [
      "File 'twcs/twcs.csv' moved to 'data/twcs.csv'\n"
     ]
    }
   ],
   "source": [
    "# Move training data to ./data path, define source and destination paths.\n",
    "source_path = \"twcs/twcs.csv\"\n",
    "destination_path = \"data/twcs.csv\"\n",
    "\n",
    "# Create the destination directory if it doesn't exist.\n",
    "os.makedirs(os.path.dirname(destination_path), exist_ok=True)\n",
    "\n",
    "# Move the file.\n",
    "shutil.move(source_path, destination_path)\n",
    "\n",
    "print(f\"File '{source_path}' moved to '{destination_path}'\")"
   ]
  },
  {
   "cell_type": "code",
   "execution_count": 16,
   "metadata": {
    "execution": {
     "iopub.execute_input": "2025-03-20T22:04:39.908448Z",
     "iopub.status.busy": "2025-03-20T22:04:39.908138Z",
     "iopub.status.idle": "2025-03-20T22:04:49.932048Z",
     "shell.execute_reply": "2025-03-20T22:04:49.931283Z",
     "shell.execute_reply.started": "2025-03-20T22:04:39.908418Z"
    },
    "id": "5CQaviapXcv9",
    "trusted": true
   },
   "outputs": [
    {
     "name": "stdout",
     "output_type": "stream",
     "text": [
      "There are 2811774 rows and 7 columns\n"
     ]
    },
    {
     "data": {
      "text/html": [
       "<div>\n",
       "<style scoped>\n",
       "    .dataframe tbody tr th:only-of-type {\n",
       "        vertical-align: middle;\n",
       "    }\n",
       "\n",
       "    .dataframe tbody tr th {\n",
       "        vertical-align: top;\n",
       "    }\n",
       "\n",
       "    .dataframe thead th {\n",
       "        text-align: right;\n",
       "    }\n",
       "</style>\n",
       "<table border=\"1\" class=\"dataframe\">\n",
       "  <thead>\n",
       "    <tr style=\"text-align: right;\">\n",
       "      <th></th>\n",
       "      <th>tweet_id</th>\n",
       "      <th>author_id</th>\n",
       "      <th>inbound</th>\n",
       "      <th>created_at</th>\n",
       "      <th>text</th>\n",
       "      <th>response_tweet_id</th>\n",
       "      <th>in_response_to_tweet_id</th>\n",
       "    </tr>\n",
       "  </thead>\n",
       "  <tbody>\n",
       "    <tr>\n",
       "      <th>0</th>\n",
       "      <td>1</td>\n",
       "      <td>sprintcare</td>\n",
       "      <td>False</td>\n",
       "      <td>Tue Oct 31 22:10:47 +0000 2017</td>\n",
       "      <td>@115712 I understand. I would like to assist y...</td>\n",
       "      <td>2</td>\n",
       "      <td>3.0</td>\n",
       "    </tr>\n",
       "    <tr>\n",
       "      <th>1</th>\n",
       "      <td>2</td>\n",
       "      <td>115712</td>\n",
       "      <td>True</td>\n",
       "      <td>Tue Oct 31 22:11:45 +0000 2017</td>\n",
       "      <td>@sprintcare and how do you propose we do that</td>\n",
       "      <td>NaN</td>\n",
       "      <td>1.0</td>\n",
       "    </tr>\n",
       "    <tr>\n",
       "      <th>2</th>\n",
       "      <td>3</td>\n",
       "      <td>115712</td>\n",
       "      <td>True</td>\n",
       "      <td>Tue Oct 31 22:08:27 +0000 2017</td>\n",
       "      <td>@sprintcare I have sent several private messag...</td>\n",
       "      <td>1</td>\n",
       "      <td>4.0</td>\n",
       "    </tr>\n",
       "    <tr>\n",
       "      <th>3</th>\n",
       "      <td>4</td>\n",
       "      <td>sprintcare</td>\n",
       "      <td>False</td>\n",
       "      <td>Tue Oct 31 21:54:49 +0000 2017</td>\n",
       "      <td>@115712 Please send us a Private Message so th...</td>\n",
       "      <td>3</td>\n",
       "      <td>5.0</td>\n",
       "    </tr>\n",
       "    <tr>\n",
       "      <th>4</th>\n",
       "      <td>5</td>\n",
       "      <td>115712</td>\n",
       "      <td>True</td>\n",
       "      <td>Tue Oct 31 21:49:35 +0000 2017</td>\n",
       "      <td>@sprintcare I did.</td>\n",
       "      <td>4</td>\n",
       "      <td>6.0</td>\n",
       "    </tr>\n",
       "  </tbody>\n",
       "</table>\n",
       "</div>"
      ],
      "text/plain": [
       "   tweet_id   author_id  inbound                      created_at  \\\n",
       "0         1  sprintcare    False  Tue Oct 31 22:10:47 +0000 2017   \n",
       "1         2      115712     True  Tue Oct 31 22:11:45 +0000 2017   \n",
       "2         3      115712     True  Tue Oct 31 22:08:27 +0000 2017   \n",
       "3         4  sprintcare    False  Tue Oct 31 21:54:49 +0000 2017   \n",
       "4         5      115712     True  Tue Oct 31 21:49:35 +0000 2017   \n",
       "\n",
       "                                                text response_tweet_id  \\\n",
       "0  @115712 I understand. I would like to assist y...                 2   \n",
       "1      @sprintcare and how do you propose we do that               NaN   \n",
       "2  @sprintcare I have sent several private messag...                 1   \n",
       "3  @115712 Please send us a Private Message so th...                 3   \n",
       "4                                 @sprintcare I did.                 4   \n",
       "\n",
       "   in_response_to_tweet_id  \n",
       "0                      3.0  \n",
       "1                      1.0  \n",
       "2                      4.0  \n",
       "3                      5.0  \n",
       "4                      6.0  "
      ]
     },
     "execution_count": 16,
     "metadata": {},
     "output_type": "execute_result"
    }
   ],
   "source": [
    "training_data = pd.read_csv(\"data/twcs.csv\")\n",
    "nRow, nCol = training_data.shape\n",
    "\n",
    "print(f'There are {nRow} rows and {nCol} columns')\n",
    "training_data.head()"
   ]
  },
  {
   "cell_type": "markdown",
   "metadata": {
    "id": "QHwYwzl9ZsWi"
   },
   "source": [
    "Later, we will want to use the **'mistral'** format for conversation style fine-tuning. It will look like this:\n",
    "\n",
    "```\n",
    "\"<s>[INST]I am not happy with customer support.[/INST]\"\n",
    "\"I am sorry to hear that! How can I help you?</s> \"\n",
    "\"[INST]How can I return my item?[/INST]\"\n",
    "```\n",
    "\n",
    "We will need to prepare our data so that it fits to this 'Q&A' style."
   ]
  },
  {
   "cell_type": "code",
   "execution_count": 17,
   "metadata": {
    "execution": {
     "iopub.execute_input": "2025-03-20T22:04:49.933416Z",
     "iopub.status.busy": "2025-03-20T22:04:49.933052Z",
     "iopub.status.idle": "2025-03-20T22:04:51.015960Z",
     "shell.execute_reply": "2025-03-20T22:04:51.015138Z",
     "shell.execute_reply.started": "2025-03-20T22:04:49.933384Z"
    },
    "id": "PDz2vb1NXwbs",
    "trusted": true
   },
   "outputs": [
    {
     "name": "stdout",
     "output_type": "stream",
     "text": [
      "Data shape: (794299, 14)\n"
     ]
    }
   ],
   "source": [
    "# Filter for initial inbound tweets: tweets that are not replies and are inbound.\n",
    "first_inbound = training_data[training_data.in_response_to_tweet_id.isna() & training_data.inbound]\n",
    "\n",
    "# Merge initial inbound tweets with their corresponding replies.\n",
    "training_data_q_and_a = pd.merge(\n",
    "  first_inbound,\n",
    "  training_data,\n",
    "  left_on=\"tweet_id\",\n",
    "  right_on=\"in_response_to_tweet_id\"\n",
    ")\n",
    "\n",
    "# Filter to only outbound replies (from companies); this selects rows where inbound_y is False.\n",
    "training_data_q_and_a = training_data_q_and_a[~training_data_q_and_a.inbound_y]\n",
    "print(f\"Data shape: {training_data_q_and_a.shape}\")"
   ]
  },
  {
   "cell_type": "code",
   "execution_count": 18,
   "metadata": {
    "execution": {
     "iopub.execute_input": "2025-03-20T22:04:51.017230Z",
     "iopub.status.busy": "2025-03-20T22:04:51.016916Z",
     "iopub.status.idle": "2025-03-20T22:04:51.034245Z",
     "shell.execute_reply": "2025-03-20T22:04:51.033560Z",
     "shell.execute_reply.started": "2025-03-20T22:04:51.017199Z"
    },
    "id": "2p5DjpzVFqU3",
    "trusted": true
   },
   "outputs": [
    {
     "name": "stderr",
     "output_type": "stream",
     "text": [
      "/usr/local/lib/python3.10/dist-packages/pandas/io/formats/format.py:1458: RuntimeWarning: invalid value encountered in greater\n",
      "  has_large_values = (abs_vals > 1e6).any()\n",
      "/usr/local/lib/python3.10/dist-packages/pandas/io/formats/format.py:1459: RuntimeWarning: invalid value encountered in less\n",
      "  has_small_values = ((abs_vals < 10 ** (-self.digits)) & (abs_vals > 0)).any()\n",
      "/usr/local/lib/python3.10/dist-packages/pandas/io/formats/format.py:1459: RuntimeWarning: invalid value encountered in greater\n",
      "  has_small_values = ((abs_vals < 10 ** (-self.digits)) & (abs_vals > 0)).any()\n"
     ]
    },
    {
     "data": {
      "text/html": [
       "<div>\n",
       "<style scoped>\n",
       "    .dataframe tbody tr th:only-of-type {\n",
       "        vertical-align: middle;\n",
       "    }\n",
       "\n",
       "    .dataframe tbody tr th {\n",
       "        vertical-align: top;\n",
       "    }\n",
       "\n",
       "    .dataframe thead th {\n",
       "        text-align: right;\n",
       "    }\n",
       "</style>\n",
       "<table border=\"1\" class=\"dataframe\">\n",
       "  <thead>\n",
       "    <tr style=\"text-align: right;\">\n",
       "      <th></th>\n",
       "      <th>tweet_id_x</th>\n",
       "      <th>author_id_x</th>\n",
       "      <th>inbound_x</th>\n",
       "      <th>created_at_x</th>\n",
       "      <th>text_x</th>\n",
       "      <th>response_tweet_id_x</th>\n",
       "      <th>in_response_to_tweet_id_x</th>\n",
       "      <th>tweet_id_y</th>\n",
       "      <th>author_id_y</th>\n",
       "      <th>inbound_y</th>\n",
       "      <th>created_at_y</th>\n",
       "      <th>text_y</th>\n",
       "      <th>response_tweet_id_y</th>\n",
       "      <th>in_response_to_tweet_id_y</th>\n",
       "    </tr>\n",
       "  </thead>\n",
       "  <tbody>\n",
       "    <tr>\n",
       "      <th>0</th>\n",
       "      <td>8</td>\n",
       "      <td>115712</td>\n",
       "      <td>True</td>\n",
       "      <td>Tue Oct 31 21:45:10 +0000 2017</td>\n",
       "      <td>@sprintcare is the worst customer service</td>\n",
       "      <td>9,6,10</td>\n",
       "      <td>NaN</td>\n",
       "      <td>6</td>\n",
       "      <td>sprintcare</td>\n",
       "      <td>False</td>\n",
       "      <td>Tue Oct 31 21:46:24 +0000 2017</td>\n",
       "      <td>@115712 Can you please send us a private messa...</td>\n",
       "      <td>5,7</td>\n",
       "      <td>8.0</td>\n",
       "    </tr>\n",
       "    <tr>\n",
       "      <th>1</th>\n",
       "      <td>8</td>\n",
       "      <td>115712</td>\n",
       "      <td>True</td>\n",
       "      <td>Tue Oct 31 21:45:10 +0000 2017</td>\n",
       "      <td>@sprintcare is the worst customer service</td>\n",
       "      <td>9,6,10</td>\n",
       "      <td>NaN</td>\n",
       "      <td>9</td>\n",
       "      <td>sprintcare</td>\n",
       "      <td>False</td>\n",
       "      <td>Tue Oct 31 21:46:14 +0000 2017</td>\n",
       "      <td>@115712 I would love the chance to review the ...</td>\n",
       "      <td>NaN</td>\n",
       "      <td>8.0</td>\n",
       "    </tr>\n",
       "    <tr>\n",
       "      <th>2</th>\n",
       "      <td>8</td>\n",
       "      <td>115712</td>\n",
       "      <td>True</td>\n",
       "      <td>Tue Oct 31 21:45:10 +0000 2017</td>\n",
       "      <td>@sprintcare is the worst customer service</td>\n",
       "      <td>9,6,10</td>\n",
       "      <td>NaN</td>\n",
       "      <td>10</td>\n",
       "      <td>sprintcare</td>\n",
       "      <td>False</td>\n",
       "      <td>Tue Oct 31 21:45:59 +0000 2017</td>\n",
       "      <td>@115712 Hello! We never like our customers to ...</td>\n",
       "      <td>NaN</td>\n",
       "      <td>8.0</td>\n",
       "    </tr>\n",
       "    <tr>\n",
       "      <th>3</th>\n",
       "      <td>18</td>\n",
       "      <td>115713</td>\n",
       "      <td>True</td>\n",
       "      <td>Tue Oct 31 19:56:01 +0000 2017</td>\n",
       "      <td>@115714 y’all lie about your “great” connectio...</td>\n",
       "      <td>17</td>\n",
       "      <td>NaN</td>\n",
       "      <td>17</td>\n",
       "      <td>sprintcare</td>\n",
       "      <td>False</td>\n",
       "      <td>Tue Oct 31 19:59:13 +0000 2017</td>\n",
       "      <td>@115713 H there! We'd definitely like to work ...</td>\n",
       "      <td>16</td>\n",
       "      <td>18.0</td>\n",
       "    </tr>\n",
       "    <tr>\n",
       "      <th>4</th>\n",
       "      <td>20</td>\n",
       "      <td>115715</td>\n",
       "      <td>True</td>\n",
       "      <td>Tue Oct 31 22:03:34 +0000 2017</td>\n",
       "      <td>@115714 whenever I contact customer support, t...</td>\n",
       "      <td>19</td>\n",
       "      <td>NaN</td>\n",
       "      <td>19</td>\n",
       "      <td>sprintcare</td>\n",
       "      <td>False</td>\n",
       "      <td>Tue Oct 31 22:10:10 +0000 2017</td>\n",
       "      <td>@115715 Please send me a private message so th...</td>\n",
       "      <td>NaN</td>\n",
       "      <td>20.0</td>\n",
       "    </tr>\n",
       "  </tbody>\n",
       "</table>\n",
       "</div>"
      ],
      "text/plain": [
       "   tweet_id_x author_id_x  inbound_x                    created_at_x  \\\n",
       "0           8      115712       True  Tue Oct 31 21:45:10 +0000 2017   \n",
       "1           8      115712       True  Tue Oct 31 21:45:10 +0000 2017   \n",
       "2           8      115712       True  Tue Oct 31 21:45:10 +0000 2017   \n",
       "3          18      115713       True  Tue Oct 31 19:56:01 +0000 2017   \n",
       "4          20      115715       True  Tue Oct 31 22:03:34 +0000 2017   \n",
       "\n",
       "                                              text_x response_tweet_id_x  \\\n",
       "0          @sprintcare is the worst customer service              9,6,10   \n",
       "1          @sprintcare is the worst customer service              9,6,10   \n",
       "2          @sprintcare is the worst customer service              9,6,10   \n",
       "3  @115714 y’all lie about your “great” connectio...                  17   \n",
       "4  @115714 whenever I contact customer support, t...                  19   \n",
       "\n",
       "   in_response_to_tweet_id_x  tweet_id_y author_id_y  inbound_y  \\\n",
       "0                        NaN           6  sprintcare      False   \n",
       "1                        NaN           9  sprintcare      False   \n",
       "2                        NaN          10  sprintcare      False   \n",
       "3                        NaN          17  sprintcare      False   \n",
       "4                        NaN          19  sprintcare      False   \n",
       "\n",
       "                     created_at_y  \\\n",
       "0  Tue Oct 31 21:46:24 +0000 2017   \n",
       "1  Tue Oct 31 21:46:14 +0000 2017   \n",
       "2  Tue Oct 31 21:45:59 +0000 2017   \n",
       "3  Tue Oct 31 19:59:13 +0000 2017   \n",
       "4  Tue Oct 31 22:10:10 +0000 2017   \n",
       "\n",
       "                                              text_y response_tweet_id_y  \\\n",
       "0  @115712 Can you please send us a private messa...                 5,7   \n",
       "1  @115712 I would love the chance to review the ...                 NaN   \n",
       "2  @115712 Hello! We never like our customers to ...                 NaN   \n",
       "3  @115713 H there! We'd definitely like to work ...                  16   \n",
       "4  @115715 Please send me a private message so th...                 NaN   \n",
       "\n",
       "   in_response_to_tweet_id_y  \n",
       "0                        8.0  \n",
       "1                        8.0  \n",
       "2                        8.0  \n",
       "3                       18.0  \n",
       "4                       20.0  "
      ]
     },
     "execution_count": 18,
     "metadata": {},
     "output_type": "execute_result"
    }
   ],
   "source": [
    "# Lets look at our current progress.\n",
    "training_data_q_and_a.head()"
   ]
  },
  {
   "cell_type": "code",
   "execution_count": 19,
   "metadata": {
    "execution": {
     "iopub.execute_input": "2025-03-20T22:04:51.035425Z",
     "iopub.status.busy": "2025-03-20T22:04:51.035114Z",
     "iopub.status.idle": "2025-03-20T22:04:51.654734Z",
     "shell.execute_reply": "2025-03-20T22:04:51.653898Z",
     "shell.execute_reply.started": "2025-03-20T22:04:51.035403Z"
    },
    "id": "t4UEsDN3FcVl",
    "trusted": true
   },
   "outputs": [
    {
     "data": {
      "image/png": "[encoded data removed]",
      "text/plain": [
       "<Figure size 1000x800 with 1 Axes>"
      ]
     },
     "metadata": {},
     "output_type": "display_data"
    }
   ],
   "source": [
    "# Lets look at our dataset. We will want to use a subset that is consistent.\n",
    "# Ideally we aim at transfering the style of replies, without leaking any information from the fine-tuning data set \n",
    "# to production use of the fine-tuned  model.\n",
    "n_tolerance = 10_000\n",
    "count = training_data_q_and_a.groupby(\"author_id_y\")[\"text_x\"].count()\n",
    "c = count[count > n_tolerance].plot(\n",
    "  kind=\"barh\",\n",
    "  figsize=(10, 8),\n",
    "  color=\"#619CFF\",\n",
    "  zorder=2,\n",
    "  width=0.8,\n",
    ")\n",
    "\n",
    "c.set_ylabel(\"\")\n",
    "c.set_xlabel(\"Number of Texts\")\n",
    "c.set_title(f\"Text Count by Author ID (Above {n_tolerance})\")\n",
    "plt.grid(axis=\"x\", linestyle=\"--\", alpha=0.7)\n",
    "plt.tight_layout()\n",
    "plt.show()"
   ]
  },
  {
   "cell_type": "markdown",
   "metadata": {
    "id": "0Xn2fn9TF5cR"
   },
   "source": [
    "Many of our examples are from Amazon, Apple or Uber. Lets reduce our data set to Apple's customer service in order to have one 'consistent style' of answering in our training set.\n",
    "\n",
    "We are making the assumption that the data set has already been cleaned, e.g. does not include any inappropriate language, has a consistent styling, etc. In a real world scenario, this assumption would be challenged and investigated."
   ]
  },
  {
   "cell_type": "code",
   "execution_count": 20,
   "metadata": {
    "execution": {
     "iopub.execute_input": "2025-03-20T22:04:51.655668Z",
     "iopub.status.busy": "2025-03-20T22:04:51.655442Z",
     "iopub.status.idle": "2025-03-20T22:04:51.745563Z",
     "shell.execute_reply": "2025-03-20T22:04:51.744720Z",
     "shell.execute_reply.started": "2025-03-20T22:04:51.655649Z"
    },
    "id": "7Y2PPk7IGEMm",
    "trusted": true
   },
   "outputs": [
    {
     "name": "stdout",
     "output_type": "stream",
     "text": [
      "Data shape (AppleSupport only): (74632, 14)\n"
     ]
    },
    {
     "name": "stderr",
     "output_type": "stream",
     "text": [
      "/usr/local/lib/python3.10/dist-packages/pandas/io/formats/format.py:1458: RuntimeWarning: invalid value encountered in greater\n",
      "  has_large_values = (abs_vals > 1e6).any()\n",
      "/usr/local/lib/python3.10/dist-packages/pandas/io/formats/format.py:1459: RuntimeWarning: invalid value encountered in less\n",
      "  has_small_values = ((abs_vals < 10 ** (-self.digits)) & (abs_vals > 0)).any()\n",
      "/usr/local/lib/python3.10/dist-packages/pandas/io/formats/format.py:1459: RuntimeWarning: invalid value encountered in greater\n",
      "  has_small_values = ((abs_vals < 10 ** (-self.digits)) & (abs_vals > 0)).any()\n"
     ]
    },
    {
     "data": {
      "text/html": [
       "<div>\n",
       "<style scoped>\n",
       "    .dataframe tbody tr th:only-of-type {\n",
       "        vertical-align: middle;\n",
       "    }\n",
       "\n",
       "    .dataframe tbody tr th {\n",
       "        vertical-align: top;\n",
       "    }\n",
       "\n",
       "    .dataframe thead th {\n",
       "        text-align: right;\n",
       "    }\n",
       "</style>\n",
       "<table border=\"1\" class=\"dataframe\">\n",
       "  <thead>\n",
       "    <tr style=\"text-align: right;\">\n",
       "      <th></th>\n",
       "      <th>tweet_id_x</th>\n",
       "      <th>author_id_x</th>\n",
       "      <th>inbound_x</th>\n",
       "      <th>created_at_x</th>\n",
       "      <th>text_x</th>\n",
       "      <th>response_tweet_id_x</th>\n",
       "      <th>in_response_to_tweet_id_x</th>\n",
       "      <th>tweet_id_y</th>\n",
       "      <th>author_id_y</th>\n",
       "      <th>inbound_y</th>\n",
       "      <th>created_at_y</th>\n",
       "      <th>text_y</th>\n",
       "      <th>response_tweet_id_y</th>\n",
       "      <th>in_response_to_tweet_id_y</th>\n",
       "    </tr>\n",
       "  </thead>\n",
       "  <tbody>\n",
       "    <tr>\n",
       "      <th>119</th>\n",
       "      <td>714</td>\n",
       "      <td>115856</td>\n",
       "      <td>True</td>\n",
       "      <td>Tue Oct 31 22:19:32 +0000 2017</td>\n",
       "      <td>Hey @AppleSupport and anyone else who upgraded...</td>\n",
       "      <td>712,715</td>\n",
       "      <td>NaN</td>\n",
       "      <td>712</td>\n",
       "      <td>AppleSupport</td>\n",
       "      <td>False</td>\n",
       "      <td>Tue Oct 31 22:26:29 +0000 2017</td>\n",
       "      <td>@115856 Hey, let's work together to figure out...</td>\n",
       "      <td>713</td>\n",
       "      <td>714.0</td>\n",
       "    </tr>\n",
       "    <tr>\n",
       "      <th>120</th>\n",
       "      <td>719</td>\n",
       "      <td>115857</td>\n",
       "      <td>True</td>\n",
       "      <td>Tue Oct 31 22:01:50 +0000 2017</td>\n",
       "      <td>Tf is wrong with my keyboard @115858</td>\n",
       "      <td>718</td>\n",
       "      <td>NaN</td>\n",
       "      <td>718</td>\n",
       "      <td>AppleSupport</td>\n",
       "      <td>False</td>\n",
       "      <td>Tue Oct 31 22:05:00 +0000 2017</td>\n",
       "      <td>@115857 Fill us in on what is happening, then ...</td>\n",
       "      <td>717</td>\n",
       "      <td>719.0</td>\n",
       "    </tr>\n",
       "    <tr>\n",
       "      <th>121</th>\n",
       "      <td>723</td>\n",
       "      <td>115859</td>\n",
       "      <td>True</td>\n",
       "      <td>Tue Oct 31 22:11:16 +0000 2017</td>\n",
       "      <td>@115858 @AppleSupport hello are all the lines ...</td>\n",
       "      <td>722</td>\n",
       "      <td>NaN</td>\n",
       "      <td>722</td>\n",
       "      <td>AppleSupport</td>\n",
       "      <td>False</td>\n",
       "      <td>Tue Oct 31 22:17:30 +0000 2017</td>\n",
       "      <td>@115859 What's going on? We're hapy to help if...</td>\n",
       "      <td>721</td>\n",
       "      <td>723.0</td>\n",
       "    </tr>\n",
       "    <tr>\n",
       "      <th>122</th>\n",
       "      <td>730</td>\n",
       "      <td>115861</td>\n",
       "      <td>True</td>\n",
       "      <td>Tue Oct 31 20:46:35 +0000 2017</td>\n",
       "      <td>Hello, internet. Can someone explain why this ...</td>\n",
       "      <td>729,731</td>\n",
       "      <td>NaN</td>\n",
       "      <td>729</td>\n",
       "      <td>AppleSupport</td>\n",
       "      <td>False</td>\n",
       "      <td>Tue Oct 31 20:55:34 +0000 2017</td>\n",
       "      <td>@115861 You're in the right place; we'll do al...</td>\n",
       "      <td>728</td>\n",
       "      <td>730.0</td>\n",
       "    </tr>\n",
       "    <tr>\n",
       "      <th>123</th>\n",
       "      <td>733</td>\n",
       "      <td>115863</td>\n",
       "      <td>True</td>\n",
       "      <td>Tue Oct 31 22:16:40 +0000 2017</td>\n",
       "      <td>@AppleSupport I’ve got a screenshot saying my ...</td>\n",
       "      <td>732</td>\n",
       "      <td>NaN</td>\n",
       "      <td>732</td>\n",
       "      <td>AppleSupport</td>\n",
       "      <td>False</td>\n",
       "      <td>Tue Oct 31 22:22:31 +0000 2017</td>\n",
       "      <td>@115863 Go ahead and send us a DM please. Let ...</td>\n",
       "      <td>NaN</td>\n",
       "      <td>733.0</td>\n",
       "    </tr>\n",
       "  </tbody>\n",
       "</table>\n",
       "</div>"
      ],
      "text/plain": [
       "     tweet_id_x author_id_x  inbound_x                    created_at_x  \\\n",
       "119         714      115856       True  Tue Oct 31 22:19:32 +0000 2017   \n",
       "120         719      115857       True  Tue Oct 31 22:01:50 +0000 2017   \n",
       "121         723      115859       True  Tue Oct 31 22:11:16 +0000 2017   \n",
       "122         730      115861       True  Tue Oct 31 20:46:35 +0000 2017   \n",
       "123         733      115863       True  Tue Oct 31 22:16:40 +0000 2017   \n",
       "\n",
       "                                                text_x response_tweet_id_x  \\\n",
       "119  Hey @AppleSupport and anyone else who upgraded...             712,715   \n",
       "120               Tf is wrong with my keyboard @115858                 718   \n",
       "121  @115858 @AppleSupport hello are all the lines ...                 722   \n",
       "122  Hello, internet. Can someone explain why this ...             729,731   \n",
       "123  @AppleSupport I’ve got a screenshot saying my ...                 732   \n",
       "\n",
       "     in_response_to_tweet_id_x  tweet_id_y   author_id_y  inbound_y  \\\n",
       "119                        NaN         712  AppleSupport      False   \n",
       "120                        NaN         718  AppleSupport      False   \n",
       "121                        NaN         722  AppleSupport      False   \n",
       "122                        NaN         729  AppleSupport      False   \n",
       "123                        NaN         732  AppleSupport      False   \n",
       "\n",
       "                       created_at_y  \\\n",
       "119  Tue Oct 31 22:26:29 +0000 2017   \n",
       "120  Tue Oct 31 22:05:00 +0000 2017   \n",
       "121  Tue Oct 31 22:17:30 +0000 2017   \n",
       "122  Tue Oct 31 20:55:34 +0000 2017   \n",
       "123  Tue Oct 31 22:22:31 +0000 2017   \n",
       "\n",
       "                                                text_y response_tweet_id_y  \\\n",
       "119  @115856 Hey, let's work together to figure out...                 713   \n",
       "120  @115857 Fill us in on what is happening, then ...                 717   \n",
       "121  @115859 What's going on? We're hapy to help if...                 721   \n",
       "122  @115861 You're in the right place; we'll do al...                 728   \n",
       "123  @115863 Go ahead and send us a DM please. Let ...                 NaN   \n",
       "\n",
       "     in_response_to_tweet_id_y  \n",
       "119                      714.0  \n",
       "120                      719.0  \n",
       "121                      723.0  \n",
       "122                      730.0  \n",
       "123                      733.0  "
      ]
     },
     "execution_count": 20,
     "metadata": {},
     "output_type": "execute_result"
    }
   ],
   "source": [
    "# Filter the DataFrame to include only rows where 'author_id_y' is \"AppleSupport\".\n",
    "author_id_keep = \"AppleSupport\"\n",
    "training_data_q_and_a = training_data_q_and_a[training_data_q_and_a[\"author_id_y\"] == author_id_keep]\n",
    "\n",
    "print(f\"Data shape ({author_id_keep} only): {training_data_q_and_a.shape}\")\n",
    "training_data_q_and_a.head()"
   ]
  },
  {
   "cell_type": "code",
   "execution_count": 21,
   "metadata": {
    "execution": {
     "iopub.execute_input": "2025-03-20T22:04:51.746728Z",
     "iopub.status.busy": "2025-03-20T22:04:51.746434Z",
     "iopub.status.idle": "2025-03-20T22:05:04.497255Z",
     "shell.execute_reply": "2025-03-20T22:05:04.496386Z",
     "shell.execute_reply.started": "2025-03-20T22:04:51.746686Z"
    },
    "id": "-qaMTJk84lFq",
    "trusted": true
   },
   "outputs": [
    {
     "name": "stderr",
     "output_type": "stream",
     "text": [
      "/usr/local/lib/python3.10/dist-packages/pandas/io/formats/format.py:1458: RuntimeWarning: invalid value encountered in greater\n",
      "  has_large_values = (abs_vals > 1e6).any()\n",
      "/usr/local/lib/python3.10/dist-packages/pandas/io/formats/format.py:1459: RuntimeWarning: invalid value encountered in less\n",
      "  has_small_values = ((abs_vals < 10 ** (-self.digits)) & (abs_vals > 0)).any()\n",
      "/usr/local/lib/python3.10/dist-packages/pandas/io/formats/format.py:1459: RuntimeWarning: invalid value encountered in greater\n",
      "  has_small_values = ((abs_vals < 10 ** (-self.digits)) & (abs_vals > 0)).any()\n"
     ]
    },
    {
     "data": {
      "text/html": [
       "<div>\n",
       "<style scoped>\n",
       "    .dataframe tbody tr th:only-of-type {\n",
       "        vertical-align: middle;\n",
       "    }\n",
       "\n",
       "    .dataframe tbody tr th {\n",
       "        vertical-align: top;\n",
       "    }\n",
       "\n",
       "    .dataframe thead th {\n",
       "        text-align: right;\n",
       "    }\n",
       "</style>\n",
       "<table border=\"1\" class=\"dataframe\">\n",
       "  <thead>\n",
       "    <tr style=\"text-align: right;\">\n",
       "      <th></th>\n",
       "      <th>tweet_id_x</th>\n",
       "      <th>author_id_x</th>\n",
       "      <th>inbound_x</th>\n",
       "      <th>created_at_x</th>\n",
       "      <th>text_x</th>\n",
       "      <th>response_tweet_id_x</th>\n",
       "      <th>in_response_to_tweet_id_x</th>\n",
       "      <th>tweet_id_y</th>\n",
       "      <th>author_id_y</th>\n",
       "      <th>inbound_y</th>\n",
       "      <th>created_at_y</th>\n",
       "      <th>text_y</th>\n",
       "      <th>response_tweet_id_y</th>\n",
       "      <th>in_response_to_tweet_id_y</th>\n",
       "    </tr>\n",
       "  </thead>\n",
       "  <tbody>\n",
       "    <tr>\n",
       "      <th>119</th>\n",
       "      <td>714</td>\n",
       "      <td>115856</td>\n",
       "      <td>True</td>\n",
       "      <td>Tue Oct 31 22:19:32 +0000 2017</td>\n",
       "      <td>Hey @[USER_ID] and anyone else who upgraded to...</td>\n",
       "      <td>712,715</td>\n",
       "      <td>NaN</td>\n",
       "      <td>712</td>\n",
       "      <td>AppleSupport</td>\n",
       "      <td>False</td>\n",
       "      <td>Tue Oct 31 22:26:29 +0000 2017</td>\n",
       "      <td>@[USER_ID] Hey, let's work together to figure ...</td>\n",
       "      <td>713</td>\n",
       "      <td>714.0</td>\n",
       "    </tr>\n",
       "    <tr>\n",
       "      <th>120</th>\n",
       "      <td>719</td>\n",
       "      <td>115857</td>\n",
       "      <td>True</td>\n",
       "      <td>Tue Oct 31 22:01:50 +0000 2017</td>\n",
       "      <td>Tf is wrong with my keyboard @115858</td>\n",
       "      <td>718</td>\n",
       "      <td>NaN</td>\n",
       "      <td>718</td>\n",
       "      <td>AppleSupport</td>\n",
       "      <td>False</td>\n",
       "      <td>Tue Oct 31 22:05:00 +0000 2017</td>\n",
       "      <td>@[USER_ID] Fill us in on what is happening, th...</td>\n",
       "      <td>717</td>\n",
       "      <td>719.0</td>\n",
       "    </tr>\n",
       "    <tr>\n",
       "      <th>121</th>\n",
       "      <td>723</td>\n",
       "      <td>115859</td>\n",
       "      <td>True</td>\n",
       "      <td>Tue Oct 31 22:11:16 +0000 2017</td>\n",
       "      <td>@115858 @[USER_ID] hello are all the lines clo...</td>\n",
       "      <td>722</td>\n",
       "      <td>NaN</td>\n",
       "      <td>722</td>\n",
       "      <td>AppleSupport</td>\n",
       "      <td>False</td>\n",
       "      <td>Tue Oct 31 22:17:30 +0000 2017</td>\n",
       "      <td>@[USER_ID] What's going on? We're hapy to help...</td>\n",
       "      <td>721</td>\n",
       "      <td>723.0</td>\n",
       "    </tr>\n",
       "    <tr>\n",
       "      <th>122</th>\n",
       "      <td>730</td>\n",
       "      <td>115861</td>\n",
       "      <td>True</td>\n",
       "      <td>Tue Oct 31 20:46:35 +0000 2017</td>\n",
       "      <td>Hello, internet. Can someone explain why this ...</td>\n",
       "      <td>729,731</td>\n",
       "      <td>NaN</td>\n",
       "      <td>729</td>\n",
       "      <td>AppleSupport</td>\n",
       "      <td>False</td>\n",
       "      <td>Tue Oct 31 20:55:34 +0000 2017</td>\n",
       "      <td>@[USER_ID] You're in the right place; we'll do...</td>\n",
       "      <td>728</td>\n",
       "      <td>730.0</td>\n",
       "    </tr>\n",
       "    <tr>\n",
       "      <th>123</th>\n",
       "      <td>733</td>\n",
       "      <td>115863</td>\n",
       "      <td>True</td>\n",
       "      <td>Tue Oct 31 22:16:40 +0000 2017</td>\n",
       "      <td>@[USER_ID] I’ve got a screenshot saying my #iP...</td>\n",
       "      <td>732</td>\n",
       "      <td>NaN</td>\n",
       "      <td>732</td>\n",
       "      <td>AppleSupport</td>\n",
       "      <td>False</td>\n",
       "      <td>Tue Oct 31 22:22:31 +0000 2017</td>\n",
       "      <td>@[USER_ID] Go ahead and send us a DM please. L...</td>\n",
       "      <td>NaN</td>\n",
       "      <td>733.0</td>\n",
       "    </tr>\n",
       "  </tbody>\n",
       "</table>\n",
       "</div>"
      ],
      "text/plain": [
       "     tweet_id_x author_id_x  inbound_x                    created_at_x  \\\n",
       "119         714      115856       True  Tue Oct 31 22:19:32 +0000 2017   \n",
       "120         719      115857       True  Tue Oct 31 22:01:50 +0000 2017   \n",
       "121         723      115859       True  Tue Oct 31 22:11:16 +0000 2017   \n",
       "122         730      115861       True  Tue Oct 31 20:46:35 +0000 2017   \n",
       "123         733      115863       True  Tue Oct 31 22:16:40 +0000 2017   \n",
       "\n",
       "                                                text_x response_tweet_id_x  \\\n",
       "119  Hey @[USER_ID] and anyone else who upgraded to...             712,715   \n",
       "120               Tf is wrong with my keyboard @115858                 718   \n",
       "121  @115858 @[USER_ID] hello are all the lines clo...                 722   \n",
       "122  Hello, internet. Can someone explain why this ...             729,731   \n",
       "123  @[USER_ID] I’ve got a screenshot saying my #iP...                 732   \n",
       "\n",
       "     in_response_to_tweet_id_x  tweet_id_y   author_id_y  inbound_y  \\\n",
       "119                        NaN         712  AppleSupport      False   \n",
       "120                        NaN         718  AppleSupport      False   \n",
       "121                        NaN         722  AppleSupport      False   \n",
       "122                        NaN         729  AppleSupport      False   \n",
       "123                        NaN         732  AppleSupport      False   \n",
       "\n",
       "                       created_at_y  \\\n",
       "119  Tue Oct 31 22:26:29 +0000 2017   \n",
       "120  Tue Oct 31 22:05:00 +0000 2017   \n",
       "121  Tue Oct 31 22:17:30 +0000 2017   \n",
       "122  Tue Oct 31 20:55:34 +0000 2017   \n",
       "123  Tue Oct 31 22:22:31 +0000 2017   \n",
       "\n",
       "                                                text_y response_tweet_id_y  \\\n",
       "119  @[USER_ID] Hey, let's work together to figure ...                 713   \n",
       "120  @[USER_ID] Fill us in on what is happening, th...                 717   \n",
       "121  @[USER_ID] What's going on? We're hapy to help...                 721   \n",
       "122  @[USER_ID] You're in the right place; we'll do...                 728   \n",
       "123  @[USER_ID] Go ahead and send us a DM please. L...                 NaN   \n",
       "\n",
       "     in_response_to_tweet_id_y  \n",
       "119                      714.0  \n",
       "120                      719.0  \n",
       "121                      723.0  \n",
       "122                      730.0  \n",
       "123                      733.0  "
      ]
     },
     "execution_count": 21,
     "metadata": {},
     "output_type": "execute_result"
    }
   ],
   "source": [
    "# We will mask usernames in this script in order to highlight the importance of protecting users.\n",
    "def mask_substrings(row):\n",
    "  \"\"\"Masks substrings in text_x and text_y that appear in author_id_x or author_id_y.\"\"\"\n",
    "  for id_col in ['author_id_x', 'author_id_y']:\n",
    "      author_id = str(row[id_col])  # Convert to string\n",
    "      for text_col in ['text_x', 'text_y']:\n",
    "          row[text_col] = re.sub(author_id, '[USER_ID]', row[text_col])\n",
    "  return row\n",
    "\n",
    "training_data_q_and_a = training_data_q_and_a.apply(mask_substrings, axis=1)\n",
    "training_data_q_and_a.head()"
   ]
  },
  {
   "cell_type": "code",
   "execution_count": 22,
   "metadata": {
    "execution": {
     "iopub.execute_input": "2025-03-20T22:05:04.498496Z",
     "iopub.status.busy": "2025-03-20T22:05:04.498203Z",
     "iopub.status.idle": "2025-03-20T22:05:04.504559Z",
     "shell.execute_reply": "2025-03-20T22:05:04.503752Z",
     "shell.execute_reply.started": "2025-03-20T22:05:04.498469Z"
    },
    "id": "omL1tz__yDtu",
    "trusted": true
   },
   "outputs": [
    {
     "name": "stdout",
     "output_type": "stream",
     "text": [
      "Data shape: (74632, 8)\n"
     ]
    }
   ],
   "source": [
    "# Keep only some columns to reduce memory footprint.\n",
    "for col in training_data_q_and_a.columns:\n",
    "  if col not in [\"tweet_id_x\", \"created_at_x\", \"author_id_x\", \"text_x\", \"tweet_id_y\", \"text_y\", \"author_id_y\", \"created_at_y\"]:\n",
    "    del training_data_q_and_a[col]\n",
    "\n",
    "print(f\"Data shape: {training_data_q_and_a.shape}\")"
   ]
  },
  {
   "cell_type": "markdown",
   "metadata": {
    "id": "GZ1nr4A-1NL3"
   },
   "source": [
    "Transform data to this format for training:\n",
    "\n",
    "```json\n",
    "[\n",
    "   {\n",
    "      \"from\":\"human\",\n",
    "      \"value\":\"text_x\"\n",
    "   },\n",
    "   {\n",
    "      \"from\":\"model\",\n",
    "      \"value\":\"text_y\"\n",
    "   }\n",
    "]\n",
    "```"
   ]
  },
  {
   "cell_type": "code",
   "execution_count": 23,
   "metadata": {
    "execution": {
     "iopub.execute_input": "2025-03-20T22:05:04.505455Z",
     "iopub.status.busy": "2025-03-20T22:05:04.505207Z",
     "iopub.status.idle": "2025-03-20T22:05:05.317402Z",
     "shell.execute_reply": "2025-03-20T22:05:05.316707Z",
     "shell.execute_reply.started": "2025-03-20T22:05:04.505434Z"
    },
    "id": "H-b6Yyk71M53",
    "trusted": true
   },
   "outputs": [],
   "source": [
    "# Transform data into appropriate format.\n",
    "training_data_q_and_a[\"conversations\"] = training_data_q_and_a.apply(\n",
    "    lambda x: [\n",
    "        {\"from\": \"human\", \"value\": x[\"text_x\"]},\n",
    "        {\"from\": \"model\", \"value\": x[\"text_y\"]},\n",
    "    ],\n",
    "    axis=1\n",
    ")\n",
    "\n",
    "dataset = Dataset.from_pandas(pd.DataFrame(training_data_q_and_a[\"conversations\"]))"
   ]
  },
  {
   "cell_type": "code",
   "execution_count": 24,
   "metadata": {
    "execution": {
     "iopub.execute_input": "2025-03-20T22:05:05.318538Z",
     "iopub.status.busy": "2025-03-20T22:05:05.318277Z",
     "iopub.status.idle": "2025-03-20T22:05:09.385639Z",
     "shell.execute_reply": "2025-03-20T22:05:09.384615Z",
     "shell.execute_reply.started": "2025-03-20T22:05:05.318516Z"
    },
    "id": "9L3Xkmua1GXJ",
    "trusted": true
   },
   "outputs": [
    {
     "data": {
      "application/vnd.jupyter.widget-view+json": {
       "model_id": "f8528a87de2a43098d8887ef50277740",
       "version_major": 2,
       "version_minor": 0
      },
      "text/plain": [
       "Map:   0%|          | 0/74632 [00:00<?, ? examples/s]"
      ]
     },
     "metadata": {},
     "output_type": "display_data"
    }
   ],
   "source": [
    "def format_prompts(examples):\n",
    "  \"\"\"Format prompt\"\"\"\n",
    "  convos = examples[\"conversations\"]\n",
    "  texts = [tokenizer.apply_chat_template(convo, tokenize=False, add_generation_prompt=False) for convo in convos]\n",
    "  return { \"text\" : texts, }\n",
    "\n",
    "dataset = dataset.map(format_prompts, batched=True)"
   ]
  },
  {
   "cell_type": "code",
   "execution_count": 25,
   "metadata": {
    "execution": {
     "iopub.execute_input": "2025-03-20T22:05:09.386991Z",
     "iopub.status.busy": "2025-03-20T22:05:09.386654Z",
     "iopub.status.idle": "2025-03-20T22:05:09.392696Z",
     "shell.execute_reply": "2025-03-20T22:05:09.391959Z",
     "shell.execute_reply.started": "2025-03-20T22:05:09.386957Z"
    },
    "id": "n9bkvGps4CpG",
    "trusted": true
   },
   "outputs": [
    {
     "data": {
      "text/plain": [
       "[{'from': 'human',\n",
       "  'value': 'Thank you @[USER_ID] I updated my phone and now it is even slower and barely works. Thank you for ruining my phone.😤'},\n",
       " {'from': 'model',\n",
       "  'value': \"@[USER_ID] We'd like to help, but we'll need more details. What's happening on your device and which model is it? Do you have iOS 11.1?\"}]"
      ]
     },
     "execution_count": 25,
     "metadata": {},
     "output_type": "execute_result"
    }
   ],
   "source": [
    "dataset[5][\"conversations\"]"
   ]
  },
  {
   "cell_type": "code",
   "execution_count": 26,
   "metadata": {
    "execution": {
     "iopub.execute_input": "2025-03-20T22:05:09.393793Z",
     "iopub.status.busy": "2025-03-20T22:05:09.393506Z",
     "iopub.status.idle": "2025-03-20T22:05:09.412210Z",
     "shell.execute_reply": "2025-03-20T22:05:09.411382Z",
     "shell.execute_reply.started": "2025-03-20T22:05:09.393764Z"
    },
    "id": "o2hZaZKy6Mx0",
    "trusted": true
   },
   "outputs": [
    {
     "data": {
      "text/plain": [
       "\"<s>[INST] Thank you @[USER_ID] I updated my phone and now it is even slower and barely works. Thank you for ruining my phone.😤 [/INST]@[USER_ID] We'd like to help, but we'll need more details. What's happening on your device and which model is it? Do you have iOS 11.1?</s>\""
      ]
     },
     "execution_count": 26,
     "metadata": {},
     "output_type": "execute_result"
    }
   ],
   "source": [
    "dataset[5][\"text\"]"
   ]
  },
  {
   "cell_type": "markdown",
   "metadata": {
    "id": "G0UIszmIDsd-"
   },
   "source": [
    "Lets remember this example for later: we will want to check if our fine-tuning did change the reply. For this, we will give the model the same message as in the example, and compare the models answer after fine-tuning with the reply in our train set"
   ]
  },
  {
   "cell_type": "code",
   "execution_count": 27,
   "metadata": {
    "execution": {
     "iopub.execute_input": "2025-03-20T22:05:09.415809Z",
     "iopub.status.busy": "2025-03-20T22:05:09.415585Z",
     "iopub.status.idle": "2025-03-20T22:05:09.427121Z",
     "shell.execute_reply": "2025-03-20T22:05:09.426539Z",
     "shell.execute_reply.started": "2025-03-20T22:05:09.415788Z"
    },
    "id": "adZWXuEbKX2f",
    "trusted": true
   },
   "outputs": [],
   "source": [
    "# Use this to monitor the training process with weights & biases. Optional.\n",
    "report_to = \"none\"\n",
    "if False:\n",
    "  import wandb\n",
    "  wandb.login()\n",
    "  report_to = \"wandb\""
   ]
  },
  {
   "cell_type": "code",
   "execution_count": 28,
   "metadata": {
    "execution": {
     "iopub.execute_input": "2025-03-20T22:05:09.428649Z",
     "iopub.status.busy": "2025-03-20T22:05:09.428373Z",
     "iopub.status.idle": "2025-03-20T22:05:09.462601Z",
     "shell.execute_reply": "2025-03-20T22:05:09.461950Z",
     "shell.execute_reply.started": "2025-03-20T22:05:09.428629Z"
    },
    "id": "nz4FEQ9I60Gt",
    "trusted": true
   },
   "outputs": [],
   "source": [
    "# Split the dataset into training and testing sets.\n",
    "split_dataset = dataset.train_test_split(test_size=0.1, seed=seed)\n",
    "\n",
    "# Assign the resulting splits to dataset_train and dataset_test.\n",
    "train_dataset = split_dataset[\"train\"]\n",
    "test_dataset = split_dataset[\"test\"]"
   ]
  },
  {
   "cell_type": "code",
   "execution_count": 29,
   "metadata": {
    "execution": {
     "iopub.execute_input": "2025-03-20T22:05:09.463616Z",
     "iopub.status.busy": "2025-03-20T22:05:09.463333Z",
     "iopub.status.idle": "2025-03-20T22:05:09.492335Z",
     "shell.execute_reply": "2025-03-20T22:05:09.491485Z",
     "shell.execute_reply.started": "2025-03-20T22:05:09.463587Z"
    },
    "id": "UMPE6oL2TXra",
    "trusted": true
   },
   "outputs": [],
   "source": [
    "# This is where the actual fine-tuning is configured. Hyperparameters are set without following a methodolocial approach.\n",
    "training_args = TrainingArguments(\n",
    "  per_device_train_batch_size=2,\n",
    "  gradient_accumulation_steps=4,\n",
    "  warmup_steps=5,\n",
    "  max_steps=13,\n",
    "  learning_rate=2e-4,\n",
    "  fp16 = not is_bfloat16_supported(),\n",
    "  bf16=is_bfloat16_supported(),\n",
    "  logging_steps=1,\n",
    "  optim=\"adamw_8bit\",\n",
    "  weight_decay=0.01,\n",
    "  lr_scheduler_type=\"linear\",\n",
    "  seed=seed,\n",
    "  output_dir=\"outputs\",\n",
    "  report_to=report_to,\n",
    ")"
   ]
  },
  {
   "cell_type": "code",
   "execution_count": 30,
   "metadata": {
    "execution": {
     "iopub.execute_input": "2025-03-20T22:05:09.493398Z",
     "iopub.status.busy": "2025-03-20T22:05:09.493157Z",
     "iopub.status.idle": "2025-03-20T22:05:24.510614Z",
     "shell.execute_reply": "2025-03-20T22:05:24.509657Z",
     "shell.execute_reply.started": "2025-03-20T22:05:09.493378Z"
    },
    "id": "BkG-JQ6QRilX",
    "trusted": true
   },
   "outputs": [
    {
     "name": "stdout",
     "output_type": "stream",
     "text": [
      "Unsloth: We found double BOS tokens - we shall remove one automatically.\n"
     ]
    },
    {
     "data": {
      "application/vnd.jupyter.widget-view+json": {
       "model_id": "6cc0de683530418a8c44ee5a3eea8627",
       "version_major": 2,
       "version_minor": 0
      },
      "text/plain": [
       "Unsloth: Tokenizing [\"text\"] (num_proc=2):   0%|          | 0/67168 [00:00<?, ? examples/s]"
      ]
     },
     "metadata": {},
     "output_type": "display_data"
    }
   ],
   "source": [
    "# Define trainer for Supervised Fine-Tuning (SFT) method.\n",
    "trainer = SFTTrainer(\n",
    "  model=model,\n",
    "  tokenizer=tokenizer,\n",
    "  train_dataset=train_dataset,\n",
    "  dataset_text_field=\"text\",\n",
    "  max_seq_length=max_sequence_length,\n",
    "  dataset_num_proc=2,\n",
    "  packing=False,\n",
    "  args=training_args,\n",
    ")"
   ]
  },
  {
   "cell_type": "code",
   "execution_count": 31,
   "metadata": {
    "execution": {
     "iopub.execute_input": "2025-03-20T22:05:24.511959Z",
     "iopub.status.busy": "2025-03-20T22:05:24.511642Z",
     "iopub.status.idle": "2025-03-20T22:07:11.082691Z",
     "shell.execute_reply": "2025-03-20T22:07:11.081975Z",
     "shell.execute_reply.started": "2025-03-20T22:05:24.511928Z"
    },
    "id": "OaVzgh8v7S0v",
    "trusted": true
   },
   "outputs": [
    {
     "name": "stderr",
     "output_type": "stream",
     "text": [
      "==((====))==  Unsloth - 2x faster free finetuning | Num GPUs used = 1\n",
      "   \\\\   /|    Num examples = 67,168 | Num Epochs = 1 | Total steps = 13\n",
      "O^O/ \\_/ \\    Batch size per device = 2 | Gradient accumulation steps = 4\n",
      "\\        /    Data Parallel GPUs = 1 | Total batch size (2 x 4 x 1) = 8\n",
      " \"-____-\"     Trainable parameters = 41,943,040/7,000,000,000 (0.60% trained)\n"
     ]
    },
    {
     "data": {
      "text/html": [
       "\n",
       "    <div>\n",
       "      \n",
       "      <progress value='13' max='13' style='width:300px; height:20px; vertical-align: middle;'></progress>\n",
       "      [13/13 01:33, Epoch 0/1]\n",
       "    </div>\n",
       "    <table border=\"1\" class=\"dataframe\">\n",
       "  <thead>\n",
       " <tr style=\"text-align: left;\">\n",
       "      <th>Step</th>\n",
       "      <th>Training Loss</th>\n",
       "    </tr>\n",
       "  </thead>\n",
       "  <tbody>\n",
       "    <tr>\n",
       "      <td>1</td>\n",
       "      <td>5.542700</td>\n",
       "    </tr>\n",
       "    <tr>\n",
       "      <td>2</td>\n",
       "      <td>6.245900</td>\n",
       "    </tr>\n",
       "    <tr>\n",
       "      <td>3</td>\n",
       "      <td>5.727400</td>\n",
       "    </tr>\n",
       "    <tr>\n",
       "      <td>4</td>\n",
       "      <td>4.620700</td>\n",
       "    </tr>\n",
       "    <tr>\n",
       "      <td>5</td>\n",
       "      <td>3.942600</td>\n",
       "    </tr>\n",
       "    <tr>\n",
       "      <td>6</td>\n",
       "      <td>3.185200</td>\n",
       "    </tr>\n",
       "    <tr>\n",
       "      <td>7</td>\n",
       "      <td>2.818700</td>\n",
       "    </tr>\n",
       "    <tr>\n",
       "      <td>8</td>\n",
       "      <td>2.629100</td>\n",
       "    </tr>\n",
       "    <tr>\n",
       "      <td>9</td>\n",
       "      <td>2.053000</td>\n",
       "    </tr>\n",
       "    <tr>\n",
       "      <td>10</td>\n",
       "      <td>2.223700</td>\n",
       "    </tr>\n",
       "    <tr>\n",
       "      <td>11</td>\n",
       "      <td>2.186600</td>\n",
       "    </tr>\n",
       "    <tr>\n",
       "      <td>12</td>\n",
       "      <td>2.124800</td>\n",
       "    </tr>\n",
       "    <tr>\n",
       "      <td>13</td>\n",
       "      <td>2.201100</td>\n",
       "    </tr>\n",
       "  </tbody>\n",
       "</table><p>"
      ],
      "text/plain": [
       "<IPython.core.display.HTML object>"
      ]
     },
     "metadata": {},
     "output_type": "display_data"
    },
    {
     "name": "stdout",
     "output_type": "stream",
     "text": [
      "Unsloth: Will smartly offload gradients to save VRAM!\n"
     ]
    }
   ],
   "source": [
    "# Lets start fine-tuning\n",
    "trainer_stats = trainer.train()"
   ]
  },
  {
   "cell_type": "markdown",
   "metadata": {},
   "source": [
    "Great! We fine-tuned our model!"
   ]
  },
  {
   "cell_type": "markdown",
   "metadata": {
    "id": "nDcnjbth9p7U"
   },
   "source": [
    "## Inference\n",
    "Now we will use our fine-tuned model and see what responses it will generate."
   ]
  },
  {
   "cell_type": "code",
   "execution_count": 32,
   "metadata": {
    "execution": {
     "iopub.execute_input": "2025-03-20T22:07:11.083837Z",
     "iopub.status.busy": "2025-03-20T22:07:11.083529Z",
     "iopub.status.idle": "2025-03-20T22:07:11.099451Z",
     "shell.execute_reply": "2025-03-20T22:07:11.098656Z",
     "shell.execute_reply.started": "2025-03-20T22:07:11.083807Z"
    },
    "id": "TsLBaEcN-93w",
    "trusted": true
   },
   "outputs": [
    {
     "data": {
      "text/plain": [
       "PeftModelForCausalLM(\n",
       "  (base_model): LoraModel(\n",
       "    (model): MistralForCausalLM(\n",
       "      (model): MistralModel(\n",
       "        (embed_tokens): Embedding(32000, 4096, padding_idx=0)\n",
       "        (layers): ModuleList(\n",
       "          (0-31): 32 x MistralDecoderLayer(\n",
       "            (self_attn): MistralAttention(\n",
       "              (q_proj): lora.Linear4bit(\n",
       "                (base_layer): Linear4bit(in_features=4096, out_features=4096, bias=False)\n",
       "                (lora_dropout): ModuleDict(\n",
       "                  (default): Identity()\n",
       "                )\n",
       "                (lora_A): ModuleDict(\n",
       "                  (default): Linear(in_features=4096, out_features=16, bias=False)\n",
       "                )\n",
       "                (lora_B): ModuleDict(\n",
       "                  (default): Linear(in_features=16, out_features=4096, bias=False)\n",
       "                )\n",
       "                (lora_embedding_A): ParameterDict()\n",
       "                (lora_embedding_B): ParameterDict()\n",
       "                (lora_magnitude_vector): ModuleDict()\n",
       "              )\n",
       "              (k_proj): lora.Linear4bit(\n",
       "                (base_layer): Linear4bit(in_features=4096, out_features=1024, bias=False)\n",
       "                (lora_dropout): ModuleDict(\n",
       "                  (default): Identity()\n",
       "                )\n",
       "                (lora_A): ModuleDict(\n",
       "                  (default): Linear(in_features=4096, out_features=16, bias=False)\n",
       "                )\n",
       "                (lora_B): ModuleDict(\n",
       "                  (default): Linear(in_features=16, out_features=1024, bias=False)\n",
       "                )\n",
       "                (lora_embedding_A): ParameterDict()\n",
       "                (lora_embedding_B): ParameterDict()\n",
       "                (lora_magnitude_vector): ModuleDict()\n",
       "              )\n",
       "              (v_proj): lora.Linear4bit(\n",
       "                (base_layer): Linear4bit(in_features=4096, out_features=1024, bias=False)\n",
       "                (lora_dropout): ModuleDict(\n",
       "                  (default): Identity()\n",
       "                )\n",
       "                (lora_A): ModuleDict(\n",
       "                  (default): Linear(in_features=4096, out_features=16, bias=False)\n",
       "                )\n",
       "                (lora_B): ModuleDict(\n",
       "                  (default): Linear(in_features=16, out_features=1024, bias=False)\n",
       "                )\n",
       "                (lora_embedding_A): ParameterDict()\n",
       "                (lora_embedding_B): ParameterDict()\n",
       "                (lora_magnitude_vector): ModuleDict()\n",
       "              )\n",
       "              (o_proj): lora.Linear4bit(\n",
       "                (base_layer): Linear4bit(in_features=4096, out_features=4096, bias=False)\n",
       "                (lora_dropout): ModuleDict(\n",
       "                  (default): Identity()\n",
       "                )\n",
       "                (lora_A): ModuleDict(\n",
       "                  (default): Linear(in_features=4096, out_features=16, bias=False)\n",
       "                )\n",
       "                (lora_B): ModuleDict(\n",
       "                  (default): Linear(in_features=16, out_features=4096, bias=False)\n",
       "                )\n",
       "                (lora_embedding_A): ParameterDict()\n",
       "                (lora_embedding_B): ParameterDict()\n",
       "                (lora_magnitude_vector): ModuleDict()\n",
       "              )\n",
       "              (rotary_emb): LlamaRotaryEmbedding()\n",
       "            )\n",
       "            (mlp): MistralMLP(\n",
       "              (gate_proj): lora.Linear4bit(\n",
       "                (base_layer): Linear4bit(in_features=4096, out_features=14336, bias=False)\n",
       "                (lora_dropout): ModuleDict(\n",
       "                  (default): Identity()\n",
       "                )\n",
       "                (lora_A): ModuleDict(\n",
       "                  (default): Linear(in_features=4096, out_features=16, bias=False)\n",
       "                )\n",
       "                (lora_B): ModuleDict(\n",
       "                  (default): Linear(in_features=16, out_features=14336, bias=False)\n",
       "                )\n",
       "                (lora_embedding_A): ParameterDict()\n",
       "                (lora_embedding_B): ParameterDict()\n",
       "                (lora_magnitude_vector): ModuleDict()\n",
       "              )\n",
       "              (up_proj): lora.Linear4bit(\n",
       "                (base_layer): Linear4bit(in_features=4096, out_features=14336, bias=False)\n",
       "                (lora_dropout): ModuleDict(\n",
       "                  (default): Identity()\n",
       "                )\n",
       "                (lora_A): ModuleDict(\n",
       "                  (default): Linear(in_features=4096, out_features=16, bias=False)\n",
       "                )\n",
       "                (lora_B): ModuleDict(\n",
       "                  (default): Linear(in_features=16, out_features=14336, bias=False)\n",
       "                )\n",
       "                (lora_embedding_A): ParameterDict()\n",
       "                (lora_embedding_B): ParameterDict()\n",
       "                (lora_magnitude_vector): ModuleDict()\n",
       "              )\n",
       "              (down_proj): lora.Linear4bit(\n",
       "                (base_layer): Linear4bit(in_features=14336, out_features=4096, bias=False)\n",
       "                (lora_dropout): ModuleDict(\n",
       "                  (default): Identity()\n",
       "                )\n",
       "                (lora_A): ModuleDict(\n",
       "                  (default): Linear(in_features=14336, out_features=16, bias=False)\n",
       "                )\n",
       "                (lora_B): ModuleDict(\n",
       "                  (default): Linear(in_features=16, out_features=4096, bias=False)\n",
       "                )\n",
       "                (lora_embedding_A): ParameterDict()\n",
       "                (lora_embedding_B): ParameterDict()\n",
       "                (lora_magnitude_vector): ModuleDict()\n",
       "              )\n",
       "              (act_fn): SiLU()\n",
       "            )\n",
       "            (input_layernorm): MistralRMSNorm((4096,), eps=1e-05)\n",
       "            (post_attention_layernorm): MistralRMSNorm((4096,), eps=1e-05)\n",
       "          )\n",
       "        )\n",
       "        (norm): MistralRMSNorm((4096,), eps=1e-05)\n",
       "        (rotary_emb): LlamaRotaryEmbedding()\n",
       "      )\n",
       "      (lm_head): Linear(in_features=4096, out_features=32000, bias=False)\n",
       "    )\n",
       "  )\n",
       ")"
      ]
     },
     "execution_count": 32,
     "metadata": {},
     "output_type": "execute_result"
    }
   ],
   "source": [
    "FastLanguageModel.for_inference(model)"
   ]
  },
  {
   "cell_type": "code",
   "execution_count": 33,
   "metadata": {
    "execution": {
     "iopub.execute_input": "2025-03-20T22:07:11.100534Z",
     "iopub.status.busy": "2025-03-20T22:07:11.100274Z",
     "iopub.status.idle": "2025-03-20T22:07:12.774399Z",
     "shell.execute_reply": "2025-03-20T22:07:12.773529Z",
     "shell.execute_reply.started": "2025-03-20T22:07:11.100514Z"
    },
    "id": "XQOEfzcC1juv",
    "trusted": true
   },
   "outputs": [
    {
     "name": "stdout",
     "output_type": "stream",
     "text": [
      "[\"<s>[INST] First flight for long time with @British_Airways. Now over one 1h delay for the short jump FRA-LCY and NO one here to provide status updates [/INST]@[USER_ID] We'd like to help. Can you tell us which flight you're on?</s>\"]\n"
     ]
    }
   ],
   "source": [
    "result = batch_inference(model, tokenizer, demo_messages)\n",
    "print(result)"
   ]
  },
  {
   "cell_type": "markdown",
   "metadata": {
    "id": "0ywNcCCIBua4"
   },
   "source": [
    "We can assume that the model did in fact learn during fine-tuning: the reply is much shorter than previously and feels like it would be an appropriate answer. Lets validate it with an example that does not occur in the training dataset. Note that we are not using any prompt instruction to the model."
   ]
  },
  {
   "cell_type": "code",
   "execution_count": 34,
   "metadata": {
    "execution": {
     "iopub.execute_input": "2025-03-20T22:07:12.775691Z",
     "iopub.status.busy": "2025-03-20T22:07:12.775369Z",
     "iopub.status.idle": "2025-03-20T22:07:14.118524Z",
     "shell.execute_reply": "2025-03-20T22:07:14.117667Z",
     "shell.execute_reply.started": "2025-03-20T22:07:12.775659Z"
    },
    "id": "23vNfH20tPxL",
    "trusted": true
   },
   "outputs": [
    {
     "name": "stdout",
     "output_type": "stream",
     "text": [
      "[\"<s>[INST] My phone broke.. 😡😡🤬😡 FIX IT FOR ME !!!! [/INST]@[USER_ID] We'd like to help. What's the issue?</s>\"]\n"
     ]
    }
   ],
   "source": [
    "# Using another example.\n",
    "example_text = (\n",
    "  \"My phone broke.. 😡😡🤬😡 FIX IT FOR ME !!!!\"\n",
    ")\n",
    "\n",
    "example_messages = [\n",
    "  {\n",
    "    \"from\": \"human\",\n",
    "    \"value\": example_text\n",
    "  },\n",
    "]\n",
    "\n",
    "result = batch_inference(model, tokenizer, example_messages)\n",
    "print(result)"
   ]
  },
  {
   "cell_type": "code",
   "execution_count": 35,
   "metadata": {
    "execution": {
     "iopub.execute_input": "2025-03-20T22:07:14.119622Z",
     "iopub.status.busy": "2025-03-20T22:07:14.119329Z",
     "iopub.status.idle": "2025-03-20T22:07:15.534867Z",
     "shell.execute_reply": "2025-03-20T22:07:15.533883Z",
     "shell.execute_reply.started": "2025-03-20T22:07:14.119587Z"
    },
    "id": "eHXcH1hOP3Pd",
    "trusted": true
   },
   "outputs": [
    {
     "name": "stdout",
     "output_type": "stream",
     "text": [
      "[\"<s>[INST] I had a terrible customer experience at your burger chain restaurant today.. [/INST]@[USER_ID] We'd like to help. Can you tell us what happened?</s>\"]\n"
     ]
    }
   ],
   "source": [
    "# Using a custom example\n",
    "example_text = (\n",
    "  \"I had a terrible customer experience at your burger chain restaurant today..\"\n",
    ")\n",
    "\n",
    "example_messages = [\n",
    "  {\n",
    "    \"from\": \"human\",\n",
    "    \"value\": example_text\n",
    "  },\n",
    "]\n",
    "\n",
    "result = batch_inference(model, tokenizer, example_messages)\n",
    "print(result)"
   ]
  },
  {
   "cell_type": "markdown",
   "metadata": {
    "id": "CvLuN4R3P3rz"
   },
   "source": [
    "The answer is short and offers help to the customer who is complaining. I am not sure if I like that the model seem's to use the phrase \"We'd like to help.\" in all answers, but still -  I will call it a success!\n",
    "\n",
    "Let's save the model."
   ]
  },
  {
   "cell_type": "markdown",
   "metadata": {
    "id": "L41AJQeOAo-j"
   },
   "source": [
    "### Save model and load it for inference"
   ]
  },
  {
   "cell_type": "code",
   "execution_count": 36,
   "metadata": {
    "execution": {
     "iopub.execute_input": "2025-03-20T22:07:15.536264Z",
     "iopub.status.busy": "2025-03-20T22:07:15.535937Z",
     "iopub.status.idle": "2025-03-20T22:07:16.088090Z",
     "shell.execute_reply": "2025-03-20T22:07:16.087367Z",
     "shell.execute_reply.started": "2025-03-20T22:07:15.536233Z"
    },
    "id": "QIAAevwj_5W8",
    "trusted": true
   },
   "outputs": [
    {
     "data": {
      "text/plain": [
       "('fine-tuned-mistral-7b-instruct-v0.2-bnb-4bit/tokenizer_config.json',\n",
       " 'fine-tuned-mistral-7b-instruct-v0.2-bnb-4bit/special_tokens_map.json',\n",
       " 'fine-tuned-mistral-7b-instruct-v0.2-bnb-4bit/tokenizer.model',\n",
       " 'fine-tuned-mistral-7b-instruct-v0.2-bnb-4bit/added_tokens.json',\n",
       " 'fine-tuned-mistral-7b-instruct-v0.2-bnb-4bit/tokenizer.json')"
      ]
     },
     "execution_count": 36,
     "metadata": {},
     "output_type": "execute_result"
    }
   ],
   "source": [
    "final_model_name = f\"fine-tuned-{model_name}\"\n",
    "\n",
    "model.save_pretrained(final_model_name)\n",
    "tokenizer.save_pretrained(final_model_name)"
   ]
  },
  {
   "cell_type": "code",
   "execution_count": 37,
   "metadata": {
    "execution": {
     "iopub.execute_input": "2025-03-20T22:07:16.089232Z",
     "iopub.status.busy": "2025-03-20T22:07:16.088925Z",
     "iopub.status.idle": "2025-03-20T22:07:25.074831Z",
     "shell.execute_reply": "2025-03-20T22:07:25.074000Z",
     "shell.execute_reply.started": "2025-03-20T22:07:16.089201Z"
    },
    "id": "UkDAoUZKA0wx",
    "trusted": true
   },
   "outputs": [
    {
     "name": "stdout",
     "output_type": "stream",
     "text": [
      "==((====))==  Unsloth 2025.3.17: Fast Mistral patching. Transformers: 4.49.0.\n",
      "   \\\\   /|    Tesla P100-PCIE-16GB. Num GPUs = 1. Max memory: 15.888 GB. Platform: Linux.\n",
      "O^O/ \\_/ \\    Torch: 2.6.0+cu124. CUDA: 6.0. CUDA Toolkit: 12.4. Triton: 3.2.0\n",
      "\\        /    Bfloat16 = FALSE. FA [Xformers = 0.0.29.post3. FA2 = False]\n",
      " \"-____-\"     Free license: http://github.com/unslothai/unsloth\n",
      "Unsloth: Fast downloading is enabled - ignore downloading bars which are red colored!\n"
     ]
    },
    {
     "data": {
      "text/plain": [
       "PeftModelForCausalLM(\n",
       "  (base_model): LoraModel(\n",
       "    (model): MistralForCausalLM(\n",
       "      (model): MistralModel(\n",
       "        (embed_tokens): Embedding(32000, 4096, padding_idx=0)\n",
       "        (layers): ModuleList(\n",
       "          (0-31): 32 x MistralDecoderLayer(\n",
       "            (self_attn): MistralAttention(\n",
       "              (q_proj): lora.Linear4bit(\n",
       "                (base_layer): Linear4bit(in_features=4096, out_features=4096, bias=False)\n",
       "                (lora_dropout): ModuleDict(\n",
       "                  (default): Identity()\n",
       "                )\n",
       "                (lora_A): ModuleDict(\n",
       "                  (default): Linear(in_features=4096, out_features=16, bias=False)\n",
       "                )\n",
       "                (lora_B): ModuleDict(\n",
       "                  (default): Linear(in_features=16, out_features=4096, bias=False)\n",
       "                )\n",
       "                (lora_embedding_A): ParameterDict()\n",
       "                (lora_embedding_B): ParameterDict()\n",
       "                (lora_magnitude_vector): ModuleDict()\n",
       "              )\n",
       "              (k_proj): lora.Linear4bit(\n",
       "                (base_layer): Linear4bit(in_features=4096, out_features=1024, bias=False)\n",
       "                (lora_dropout): ModuleDict(\n",
       "                  (default): Identity()\n",
       "                )\n",
       "                (lora_A): ModuleDict(\n",
       "                  (default): Linear(in_features=4096, out_features=16, bias=False)\n",
       "                )\n",
       "                (lora_B): ModuleDict(\n",
       "                  (default): Linear(in_features=16, out_features=1024, bias=False)\n",
       "                )\n",
       "                (lora_embedding_A): ParameterDict()\n",
       "                (lora_embedding_B): ParameterDict()\n",
       "                (lora_magnitude_vector): ModuleDict()\n",
       "              )\n",
       "              (v_proj): lora.Linear4bit(\n",
       "                (base_layer): Linear4bit(in_features=4096, out_features=1024, bias=False)\n",
       "                (lora_dropout): ModuleDict(\n",
       "                  (default): Identity()\n",
       "                )\n",
       "                (lora_A): ModuleDict(\n",
       "                  (default): Linear(in_features=4096, out_features=16, bias=False)\n",
       "                )\n",
       "                (lora_B): ModuleDict(\n",
       "                  (default): Linear(in_features=16, out_features=1024, bias=False)\n",
       "                )\n",
       "                (lora_embedding_A): ParameterDict()\n",
       "                (lora_embedding_B): ParameterDict()\n",
       "                (lora_magnitude_vector): ModuleDict()\n",
       "              )\n",
       "              (o_proj): lora.Linear4bit(\n",
       "                (base_layer): Linear4bit(in_features=4096, out_features=4096, bias=False)\n",
       "                (lora_dropout): ModuleDict(\n",
       "                  (default): Identity()\n",
       "                )\n",
       "                (lora_A): ModuleDict(\n",
       "                  (default): Linear(in_features=4096, out_features=16, bias=False)\n",
       "                )\n",
       "                (lora_B): ModuleDict(\n",
       "                  (default): Linear(in_features=16, out_features=4096, bias=False)\n",
       "                )\n",
       "                (lora_embedding_A): ParameterDict()\n",
       "                (lora_embedding_B): ParameterDict()\n",
       "                (lora_magnitude_vector): ModuleDict()\n",
       "              )\n",
       "              (rotary_emb): LlamaRotaryEmbedding()\n",
       "            )\n",
       "            (mlp): MistralMLP(\n",
       "              (gate_proj): lora.Linear4bit(\n",
       "                (base_layer): Linear4bit(in_features=4096, out_features=14336, bias=False)\n",
       "                (lora_dropout): ModuleDict(\n",
       "                  (default): Identity()\n",
       "                )\n",
       "                (lora_A): ModuleDict(\n",
       "                  (default): Linear(in_features=4096, out_features=16, bias=False)\n",
       "                )\n",
       "                (lora_B): ModuleDict(\n",
       "                  (default): Linear(in_features=16, out_features=14336, bias=False)\n",
       "                )\n",
       "                (lora_embedding_A): ParameterDict()\n",
       "                (lora_embedding_B): ParameterDict()\n",
       "                (lora_magnitude_vector): ModuleDict()\n",
       "              )\n",
       "              (up_proj): lora.Linear4bit(\n",
       "                (base_layer): Linear4bit(in_features=4096, out_features=14336, bias=False)\n",
       "                (lora_dropout): ModuleDict(\n",
       "                  (default): Identity()\n",
       "                )\n",
       "                (lora_A): ModuleDict(\n",
       "                  (default): Linear(in_features=4096, out_features=16, bias=False)\n",
       "                )\n",
       "                (lora_B): ModuleDict(\n",
       "                  (default): Linear(in_features=16, out_features=14336, bias=False)\n",
       "                )\n",
       "                (lora_embedding_A): ParameterDict()\n",
       "                (lora_embedding_B): ParameterDict()\n",
       "                (lora_magnitude_vector): ModuleDict()\n",
       "              )\n",
       "              (down_proj): lora.Linear4bit(\n",
       "                (base_layer): Linear4bit(in_features=14336, out_features=4096, bias=False)\n",
       "                (lora_dropout): ModuleDict(\n",
       "                  (default): Identity()\n",
       "                )\n",
       "                (lora_A): ModuleDict(\n",
       "                  (default): Linear(in_features=14336, out_features=16, bias=False)\n",
       "                )\n",
       "                (lora_B): ModuleDict(\n",
       "                  (default): Linear(in_features=16, out_features=4096, bias=False)\n",
       "                )\n",
       "                (lora_embedding_A): ParameterDict()\n",
       "                (lora_embedding_B): ParameterDict()\n",
       "                (lora_magnitude_vector): ModuleDict()\n",
       "              )\n",
       "              (act_fn): SiLU()\n",
       "            )\n",
       "            (input_layernorm): MistralRMSNorm((4096,), eps=1e-05)\n",
       "            (post_attention_layernorm): MistralRMSNorm((4096,), eps=1e-05)\n",
       "          )\n",
       "        )\n",
       "        (norm): MistralRMSNorm((4096,), eps=1e-05)\n",
       "        (rotary_emb): LlamaRotaryEmbedding()\n",
       "      )\n",
       "      (lm_head): Linear(in_features=4096, out_features=32000, bias=False)\n",
       "    )\n",
       "  )\n",
       ")"
      ]
     },
     "execution_count": 37,
     "metadata": {},
     "output_type": "execute_result"
    }
   ],
   "source": [
    "model, tokenizer = FastLanguageModel.from_pretrained(\n",
    "  model_name=final_model_name,\n",
    "  max_seq_length=max_sequence_length,\n",
    "  dtype=dtype,\n",
    "  load_in_4bit=load_in_4bit,\n",
    ")\n",
    "FastLanguageModel.for_inference(model)"
   ]
  },
  {
   "cell_type": "code",
   "execution_count": 38,
   "metadata": {
    "execution": {
     "iopub.execute_input": "2025-03-20T22:07:25.075808Z",
     "iopub.status.busy": "2025-03-20T22:07:25.075596Z",
     "iopub.status.idle": "2025-03-20T22:07:26.759949Z",
     "shell.execute_reply": "2025-03-20T22:07:26.759178Z",
     "shell.execute_reply.started": "2025-03-20T22:07:25.075790Z"
    },
    "id": "LlZZOmx-BdiK",
    "trusted": true
   },
   "outputs": [
    {
     "name": "stdout",
     "output_type": "stream",
     "text": [
      "[\"<s>[INST] First flight for long time with @British_Airways. Now over one 1h delay for the short jump FRA-LCY and NO one here to provide status updates [/INST]@[USER_ID] We'd like to help. Can you tell us which flight you're on?</s>\"]\n"
     ]
    }
   ],
   "source": [
    "result = batch_inference(model, tokenizer, demo_messages)\n",
    "print(result)"
   ]
  },
  {
   "cell_type": "markdown",
   "metadata": {
    "id": "x1gGErZgApaZ"
   },
   "source": [
    "This reply looks good as well. It is a good sign that the model replies in short, useful sentences. In the future, we should consider adding guardrails to avoid that our model replies to requests that cover topics outside of Apple's customer service domain."
   ]
  },
  {
   "cell_type": "markdown",
   "metadata": {
    "id": "myf0NpWsQuE7"
   },
   "source": [
    "## One small final check: catastrophic forgetting"
   ]
  },
  {
   "cell_type": "code",
   "execution_count": 39,
   "metadata": {
    "execution": {
     "iopub.execute_input": "2025-03-20T22:07:26.761076Z",
     "iopub.status.busy": "2025-03-20T22:07:26.760772Z",
     "iopub.status.idle": "2025-03-20T22:07:30.336719Z",
     "shell.execute_reply": "2025-03-20T22:07:30.335789Z",
     "shell.execute_reply.started": "2025-03-20T22:07:26.761043Z"
    },
    "id": "geZJ3a-0Qvb4",
    "trusted": true
   },
   "outputs": [
    {
     "name": "stdout",
     "output_type": "stream",
     "text": [
      "['<s>[INST] Why is the sky blue? [/INST] The sky appears blue because of the scattering of sunlight by the atmosphere. The molecules in the air scatter the shorter wavelengths of light, such as blue and violet, more than the longer wavelengths, such as red. This scattering causes the sky to appear blue to us.</s>']\n"
     ]
    }
   ],
   "source": [
    "# Lets check if our model can still perform basic conversation and does not have problems with \"catastrophic forgetting\", \n",
    "# which would be a bad sign with regard to our fine-tuning process.\n",
    "example_text = (\n",
    "  \"Why is the sky blue?\"\n",
    ")\n",
    "\n",
    "example_messages = [\n",
    "  {\n",
    "    \"from\": \"human\",\n",
    "    \"value\": example_text\n",
    "  },\n",
    "]\n",
    "\n",
    "result = batch_inference(model, tokenizer, example_messages)\n",
    "print(result)"
   ]
  },
  {
   "cell_type": "markdown",
   "metadata": {
    "id": "BWJuoN8WAQWF"
   },
   "source": [
    "Awesome! It looks like that our model's ability to reply to requests outside the customer service domain has not suffered. In a real world scenario, we would evaluate this further before deploying the model. Thats something for the future."
   ]
  },
  {
   "cell_type": "code",
   "execution_count": null,
   "metadata": {
    "id": "fOb0ztr9RAzE",
    "trusted": true
   },
   "outputs": [],
   "source": []
  }
 ],
 "metadata": {
  "accelerator": "GPU",
  "colab": {
   "gpuType": "T4",
   "provenance": []
  },
  "kaggle": {
   "accelerator": "gpu",
   "dataSources": [],
   "dockerImageVersionId": 30919,
   "isGpuEnabled": true,
   "isInternetEnabled": true,
   "language": "python",
   "sourceType": "notebook"
  },
  "kernelspec": {
   "display_name": ".venv",
   "language": "python",
   "name": "python3"
  },
  "language_info": {
   "codemirror_mode": {
    "name": "ipython",
    "version": 3
   },
   "file_extension": ".py",
   "mimetype": "text/x-python",
   "name": "python",
   "nbconvert_exporter": "python",
   "pygments_lexer": "ipython3",
   "version": "3.11.7"
  }
 },
 "nbformat": 4,
 "nbformat_minor": 4
}
